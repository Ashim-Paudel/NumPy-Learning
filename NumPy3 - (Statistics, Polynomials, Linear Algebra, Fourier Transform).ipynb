{
 "cells": [
  {
   "cell_type": "code",
   "execution_count": 1,
   "id": "8ae5db97",
   "metadata": {},
   "outputs": [],
   "source": [
    "import numpy as np\n",
    "import matplotlib.pyplot as plt\n",
    "import random\n",
    "plt.rc('font', family='serif', size=14)"
   ]
  },
  {
   "cell_type": "markdown",
   "id": "1e69d1f2",
   "metadata": {},
   "source": [
    "# Statistical Methods"
   ]
  },
  {
   "cell_type": "markdown",
   "id": "b5f7546b",
   "metadata": {},
   "source": [
    "### Maxima and Minima\n",
    "- `np.max`, `np.min`\n",
    "\n",
    "- `np.argmax`, `np.argmin`\n",
    "\n",
    "- `np.argnanmax`, `np.argnanmin`\n",
    "\n",
    "- `np.nanmax`, `np.nanmin`\n",
    "\n",
    "- `np.fmax`,`np.fmin`\n",
    "\n",
    "- `np.maximum`, `np.minimum`"
   ]
  },
  {
   "cell_type": "code",
   "execution_count": 10,
   "id": "19fc427c",
   "metadata": {},
   "outputs": [
    {
     "data": {
      "text/plain": [
       "array([[-5.        , -3.88888889],\n",
       "       [-2.77777778, -1.66666667],\n",
       "       [-0.55555556,  0.55555556],\n",
       "       [ 1.66666667,  2.77777778],\n",
       "       [ 3.88888889,  5.        ]])"
      ]
     },
     "execution_count": 10,
     "metadata": {},
     "output_type": "execute_result"
    }
   ],
   "source": [
    "a = np.linspace(-5,5, 10).reshape(5,2)\n",
    "a"
   ]
  },
  {
   "cell_type": "code",
   "execution_count": 11,
   "id": "4803a777",
   "metadata": {},
   "outputs": [
    {
     "data": {
      "text/plain": [
       "(5.0, -5.0)"
      ]
     },
     "execution_count": 11,
     "metadata": {},
     "output_type": "execute_result"
    }
   ],
   "source": [
    "np.max(a), np.min(a)"
   ]
  },
  {
   "cell_type": "code",
   "execution_count": 15,
   "id": "d84fbdb0",
   "metadata": {},
   "outputs": [
    {
     "data": {
      "text/plain": [
       "array([ 5.,  6.,  7.,  8., nan,  9., -1., 13., nan])"
      ]
     },
     "execution_count": 15,
     "metadata": {},
     "output_type": "execute_result"
    }
   ],
   "source": [
    "a_nan = np.array([5,6,7,8,np.nan, 9,-1,13, np.nan]) #for an array containing nan values\n",
    "a_nan"
   ]
  },
  {
   "cell_type": "code",
   "execution_count": 17,
   "id": "2b515acd",
   "metadata": {},
   "outputs": [
    {
     "data": {
      "text/plain": [
       "(nan, nan)"
      ]
     },
     "execution_count": 17,
     "metadata": {},
     "output_type": "execute_result"
    }
   ],
   "source": [
    "np.max(a_nan), np.min(a_nan) #this will not work right, nan values will be returned as maximum and minimum values"
   ]
  },
  {
   "cell_type": "code",
   "execution_count": 19,
   "id": "ad6f35cf",
   "metadata": {},
   "outputs": [
    {
     "data": {
      "text/plain": [
       "(13.0, -1.0)"
      ]
     },
     "execution_count": 19,
     "metadata": {},
     "output_type": "execute_result"
    }
   ],
   "source": [
    "#so, if any nan values are present, we must use np.nanmax  and np.nanmin\n",
    "np.nanmax(a_nan), np.nanmin(a_nan)"
   ]
  },
  {
   "cell_type": "code",
   "execution_count": 22,
   "id": "03cb99bb",
   "metadata": {},
   "outputs": [
    {
     "data": {
      "text/plain": [
       "array([  5.,   6.,   7.,   8.,   9.,   9.,   6.,  99., -99.])"
      ]
     },
     "execution_count": 22,
     "metadata": {},
     "output_type": "execute_result"
    }
   ],
   "source": [
    "#in order to compare tow araays element wise, we use fmin and fmax\n",
    "np.fmax((1,2,-1,8,9,5,6,99, -99), [5,6,7,8,np.nan, 9,-1,13, np.nan]) #returns array containing maximum value in each element"
   ]
  },
  {
   "cell_type": "code",
   "execution_count": 23,
   "id": "e0930e42",
   "metadata": {},
   "outputs": [
    {
     "data": {
      "text/plain": [
       "array([  1.,   2.,  -1.,   8.,   9.,   5.,  -1.,  13., -99.])"
      ]
     },
     "execution_count": 23,
     "metadata": {},
     "output_type": "execute_result"
    }
   ],
   "source": [
    "np.fmin((1,2,-1,8,9,5,6,99, -99), [5,6,7,8,np.nan, 9,-1,13, np.nan])"
   ]
  },
  {
   "cell_type": "markdown",
   "id": "d1520f80",
   "metadata": {},
   "source": [
    "`np.fmin` and `np.fmax` will ignore nan values, but `np.maximum` and `np.minimum` will not"
   ]
  },
  {
   "cell_type": "code",
   "execution_count": 24,
   "id": "917fee34",
   "metadata": {},
   "outputs": [
    {
     "data": {
      "text/plain": [
       "array([ 5.,  6.,  7.,  8., nan,  9.,  6., 99., nan])"
      ]
     },
     "execution_count": 24,
     "metadata": {},
     "output_type": "execute_result"
    }
   ],
   "source": [
    "np.maximum((1,2,-1,8,9,5,6,99, -99), [5,6,7,8,np.nan, 9,-1,13, np.nan])"
   ]
  },
  {
   "cell_type": "code",
   "execution_count": 25,
   "id": "1c503a30",
   "metadata": {},
   "outputs": [
    {
     "data": {
      "text/plain": [
       "array([ 1.,  2., -1.,  8., nan,  5., -1., 13., nan])"
      ]
     },
     "execution_count": 25,
     "metadata": {},
     "output_type": "execute_result"
    }
   ],
   "source": [
    "np.minimum((1,2,-1,8,9,5,6,99, -99), [5,6,7,8,np.nan, 9,-1,13, np.nan])"
   ]
  },
  {
   "cell_type": "markdown",
   "id": "dfac158f",
   "metadata": {},
   "source": [
    "### Percentiles\n",
    "- `np.percentile(array, q, axis)`\n",
    "- q = percentile to be returned, 50 for median, 0 for 0th percentile, 100 for 100th percentile\n",
    "- use axis=1 for rows and axis=0 for columns"
   ]
  },
  {
   "cell_type": "code",
   "execution_count": 36,
   "id": "e6df49a9",
   "metadata": {},
   "outputs": [],
   "source": [
    "arr = np.arange(-10,10,1).reshape(4,5)"
   ]
  },
  {
   "cell_type": "code",
   "execution_count": 37,
   "id": "62f29e32",
   "metadata": {},
   "outputs": [
    {
     "data": {
      "text/plain": [
       "array([[-10,  -9,  -8,  -7,  -6],\n",
       "       [ -5,  -4,  -3,  -2,  -1],\n",
       "       [  0,   1,   2,   3,   4],\n",
       "       [  5,   6,   7,   8,   9]])"
      ]
     },
     "execution_count": 37,
     "metadata": {},
     "output_type": "execute_result"
    }
   ],
   "source": [
    "arr"
   ]
  },
  {
   "cell_type": "code",
   "execution_count": 38,
   "id": "62e2397f",
   "metadata": {},
   "outputs": [
    {
     "data": {
      "text/plain": [
       "-10.0"
      ]
     },
     "execution_count": 38,
     "metadata": {},
     "output_type": "execute_result"
    }
   ],
   "source": [
    "np.percentile(arr, 0)"
   ]
  },
  {
   "cell_type": "code",
   "execution_count": 39,
   "id": "e4a6966d",
   "metadata": {},
   "outputs": [
    {
     "data": {
      "text/plain": [
       "9.0"
      ]
     },
     "execution_count": 39,
     "metadata": {},
     "output_type": "execute_result"
    }
   ],
   "source": [
    "np.percentile(arr, 100)"
   ]
  },
  {
   "cell_type": "code",
   "execution_count": 40,
   "id": "21b7710d",
   "metadata": {},
   "outputs": [
    {
     "data": {
      "text/plain": [
       "-0.5"
      ]
     },
     "execution_count": 40,
     "metadata": {},
     "output_type": "execute_result"
    }
   ],
   "source": [
    "np.percentile(arr, 50)"
   ]
  },
  {
   "cell_type": "code",
   "execution_count": 41,
   "id": "ed49b049",
   "metadata": {},
   "outputs": [
    {
     "data": {
      "text/plain": [
       "array([-8., -3.,  2.,  7.])"
      ]
     },
     "execution_count": 41,
     "metadata": {},
     "output_type": "execute_result"
    }
   ],
   "source": [
    "np.percentile(arr,50, axis=1)"
   ]
  },
  {
   "cell_type": "code",
   "execution_count": 42,
   "id": "ba13eb02",
   "metadata": {},
   "outputs": [
    {
     "data": {
      "text/plain": [
       "array([-2.5, -1.5, -0.5,  0.5,  1.5])"
      ]
     },
     "execution_count": 42,
     "metadata": {},
     "output_type": "execute_result"
    }
   ],
   "source": [
    "np.percentile(arr, 50, axis=0)"
   ]
  },
  {
   "cell_type": "code",
   "execution_count": 54,
   "id": "4d33a84b",
   "metadata": {},
   "outputs": [
    {
     "data": {
      "text/plain": [
       "array([[-6.25, -5.25, -4.25, -3.25, -2.25],\n",
       "       [-2.5 , -1.5 , -0.5 ,  0.5 ,  1.5 ],\n",
       "       [ 1.25,  2.25,  3.25,  4.25,  5.25]])"
      ]
     },
     "execution_count": 54,
     "metadata": {},
     "output_type": "execute_result"
    }
   ],
   "source": [
    "np.percentile(arr,(25,50,75), axis=0)"
   ]
  },
  {
   "cell_type": "code",
   "execution_count": 55,
   "id": "60949480",
   "metadata": {},
   "outputs": [
    {
     "data": {
      "text/plain": [
       "array([[-9., -4.,  1.,  6.],\n",
       "       [-8., -3.,  2.,  7.],\n",
       "       [-7., -2.,  3.,  8.]])"
      ]
     },
     "execution_count": 55,
     "metadata": {},
     "output_type": "execute_result"
    }
   ],
   "source": [
    "np.percentile(arr,(25,50,75), axis=1)"
   ]
  },
  {
   "cell_type": "markdown",
   "id": "3c830a25",
   "metadata": {},
   "source": [
    "### Average, Variance and Correlations"
   ]
  },
  {
   "cell_type": "code",
   "execution_count": null,
   "id": "cb38790a",
   "metadata": {},
   "outputs": [],
   "source": []
  }
 ],
 "metadata": {
  "kernelspec": {
   "display_name": "Python 3 (ipykernel)",
   "language": "python",
   "name": "python3"
  },
  "language_info": {
   "codemirror_mode": {
    "name": "ipython",
    "version": 3
   },
   "file_extension": ".py",
   "mimetype": "text/x-python",
   "name": "python",
   "nbconvert_exporter": "python",
   "pygments_lexer": "ipython3",
   "version": "3.8.10"
  }
 },
 "nbformat": 4,
 "nbformat_minor": 5
}
