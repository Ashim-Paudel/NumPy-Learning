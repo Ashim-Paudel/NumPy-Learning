{
 "cells": [
  {
   "cell_type": "code",
   "execution_count": 1,
   "id": "45c7276e",
   "metadata": {},
   "outputs": [],
   "source": [
    "import numpy as np #importing numpy package\n",
    "import matplotlib.pyplot as plt #to visualize numpy data\n",
    "import random  #might require to generate data"
   ]
  },
  {
   "cell_type": "markdown",
   "id": "319d922c",
   "metadata": {},
   "source": [
    "## 1. The basics"
   ]
  },
  {
   "cell_type": "markdown",
   "id": "0b9d5437",
   "metadata": {},
   "source": [
    "### 1.1 The basic array method\n",
    "- Unlike Python lists and tuples, the elements cannot be of different types: each element in a NumPy array has the same type, which is specified by an associated data type object (dtype).\n",
    "- The dimensions of a NumPy array are called axes; the number of axes an array has is called its rank.\n",
    "- **syntax for array:** `np.array(#any iterable objects having same data type)`"
   ]
  },
  {
   "cell_type": "code",
   "execution_count": 31,
   "id": "75c15d90",
   "metadata": {},
   "outputs": [
    {
     "data": {
      "text/plain": [
       "(array([1, 2, 3, 4, 5, 6]),\n",
       " array([5, 6, 7, 8]),\n",
       " array(['ram', 'shyam', 'hari'], dtype='<U5'))"
      ]
     },
     "execution_count": 31,
     "metadata": {},
     "output_type": "execute_result"
    }
   ],
   "source": [
    "#one dimensional array- pass list or tuple :\n",
    "a = np.array((1,2,3,4,5,6))\n",
    "b = np.array([5,6,7,8])\n",
    "c = np.array(('ram','shyam','hari'))\n",
    "a,b,c"
   ]
  },
  {
   "cell_type": "code",
   "execution_count": 26,
   "id": "1fd836f9",
   "metadata": {},
   "outputs": [
    {
     "data": {
      "text/plain": [
       "array([[1, 2],\n",
       "       [2, 4],\n",
       "       [3, 6],\n",
       "       [4, 8]])"
      ]
     },
     "execution_count": 26,
     "metadata": {},
     "output_type": "execute_result"
    }
   ],
   "source": [
    "#2d array:\n",
    "a_2 = np.array(((1,2), (2,4), (3,6), (4,8)))\n",
    "a_2"
   ]
  },
  {
   "cell_type": "code",
   "execution_count": 55,
   "id": "4c4c0a8f",
   "metadata": {},
   "outputs": [
    {
     "data": {
      "text/plain": [
       "(array([[ 1.+0.j,  6.+0.j],\n",
       "        [ 9.+0.j, 10.+0.j],\n",
       "        [ 5.+0.j,  6.+0.j]]),\n",
       " array([[ 1.,  6.],\n",
       "        [ 9., 10.],\n",
       "        [ 5.,  6.]]),\n",
       " array([['1', '6'],\n",
       "        ['9', '10'],\n",
       "        ['5', '6']], dtype='<U2'),\n",
       " array([[ 1.,  6.],\n",
       "        [ 9., 10.],\n",
       "        [ 5.,  6.]]),\n",
       " array([['1', '6'],\n",
       "        ['9', '10'],\n",
       "        ['5', 'a string to force all data type to string']], dtype='<U41'))"
      ]
     },
     "execution_count": 55,
     "metadata": {},
     "output_type": "execute_result"
    }
   ],
   "source": [
    "#we can explicitly assign datatype too:\n",
    "b_2 = np.array([[1,6], [9,10], [5,6]],dtype=complex)\n",
    "b_2i = np.array([[1,6], [9,10], [5,6]], dtype=float) #explicitly mentioning the datatype\n",
    "b_fs = np.array([[1,6], [9,10], [5,6]], dtype=str) #explicitly mentioning the datatype\n",
    "b_21 = np.array([[1,6], [9,10], [5,6.0]] ) #np will adjust its array datatype to best make all same type of data\n",
    "b_2s = np.array([[1,6], [9,10],[5,'a string to force all data type to string']])\n",
    "\n",
    "b_2, b_2i,b_fs, b_21, b_2s #b_2s will have all string data type"
   ]
  },
  {
   "cell_type": "code",
   "execution_count": 56,
   "id": "e07a7934",
   "metadata": {},
   "outputs": [
    {
     "data": {
      "text/plain": [
       "3"
      ]
     },
     "execution_count": 56,
     "metadata": {},
     "output_type": "execute_result"
    }
   ],
   "source": [
    "#accessing array elements\n",
    "a_2 = np.array(((1,2), (2,4), (3,6), (4,8)))\n",
    "a_2[2,0]"
   ]
  },
  {
   "cell_type": "code",
   "execution_count": 57,
   "id": "0bf8c48b",
   "metadata": {},
   "outputs": [
    {
     "data": {
      "text/plain": [
       "(array([[4.24399158e-314, 8.48798316e-314],\n",
       "        [1.27319747e-313, 1.69759663e-313]]),\n",
       " array([[0., 0., 0.],\n",
       "        [0., 0., 0.],\n",
       "        [0., 0., 0.]]),\n",
       " array([[1., 1., 1., 1., 1.],\n",
       "        [1., 1., 1., 1., 1.]]))"
      ]
     },
     "execution_count": 57,
     "metadata": {},
     "output_type": "execute_result"
    }
   ],
   "source": [
    "#array initialization/ creation when actual value and size of array required is unknown:\n",
    "_1 = np.empty((2,2)) #gives garbage value of 2*2 array\n",
    "_2 = np.zeros((3,3)) #gives 3*3 array of only 0\n",
    "_3 = np.ones((2,5)) #only ones\n",
    "\n",
    "_1, _2, _3"
   ]
  },
  {
   "cell_type": "code",
   "execution_count": 60,
   "id": "473a9f6e",
   "metadata": {},
   "outputs": [
    {
     "data": {
      "text/plain": [
       "(array([[1., 1., 1.],\n",
       "        [1., 1., 1.],\n",
       "        [1., 1., 1.]]),\n",
       " array([[0., 0., 0., 0., 0.],\n",
       "        [0., 0., 0., 0., 0.]]))"
      ]
     },
     "execution_count": 60,
     "metadata": {},
     "output_type": "execute_result"
    }
   ],
   "source": [
    "#to initialize an empty array of size equal to another array:\n",
    "\n",
    "a = np.ones_like(_2) #create array of size as _2 array but containing one\n",
    "b = np.zeros_like(_3)\n",
    "a,b"
   ]
  },
  {
   "cell_type": "code",
   "execution_count": null,
   "id": "526417e0",
   "metadata": {},
   "outputs": [],
   "source": []
  },
  {
   "cell_type": "markdown",
   "id": "92467be2",
   "metadata": {},
   "source": [
    "### 1.2 Initializing an array from a sequence and function\n",
    "- `np.arange()` to create array containing range of values (may exclude end value)\n",
    "- `np.linspace()` to create array of cetrain range of values with equal spacing, including both end values\n",
    "- `np.fromfunction(function, shape)`"
   ]
  },
  {
   "cell_type": "code",
   "execution_count": 80,
   "id": "e022365b",
   "metadata": {},
   "outputs": [
    {
     "data": {
      "text/plain": [
       "array([0, 1, 2, 3, 4, 5, 6])"
      ]
     },
     "execution_count": 80,
     "metadata": {},
     "output_type": "execute_result"
    }
   ],
   "source": [
    "# to create an array cont\n",
    "np.arange(7)"
   ]
  },
  {
   "cell_type": "code",
   "execution_count": 67,
   "id": "06e44605",
   "metadata": {},
   "outputs": [
    {
     "data": {
      "text/plain": [
       "array([5.  , 5.01, 5.02, 5.03, 5.04, 5.05, 5.06, 5.07, 5.08, 5.09, 5.1 ,\n",
       "       5.11, 5.12, 5.13, 5.14, 5.15, 5.16, 5.17, 5.18, 5.19, 5.2 , 5.21,\n",
       "       5.22, 5.23, 5.24, 5.25, 5.26, 5.27, 5.28, 5.29, 5.3 , 5.31, 5.32,\n",
       "       5.33, 5.34, 5.35, 5.36, 5.37, 5.38, 5.39, 5.4 , 5.41, 5.42, 5.43,\n",
       "       5.44, 5.45, 5.46, 5.47, 5.48, 5.49, 5.5 , 5.51, 5.52, 5.53, 5.54,\n",
       "       5.55, 5.56, 5.57, 5.58, 5.59, 5.6 , 5.61, 5.62, 5.63, 5.64, 5.65,\n",
       "       5.66, 5.67, 5.68, 5.69, 5.7 , 5.71, 5.72, 5.73, 5.74, 5.75, 5.76,\n",
       "       5.77, 5.78, 5.79, 5.8 , 5.81, 5.82, 5.83, 5.84, 5.85, 5.86, 5.87,\n",
       "       5.88, 5.89, 5.9 , 5.91, 5.92, 5.93, 5.94, 5.95, 5.96, 5.97, 5.98,\n",
       "       5.99])"
      ]
     },
     "execution_count": 67,
     "metadata": {},
     "output_type": "execute_result"
    }
   ],
   "source": [
    "np.arange(5,6,.01)"
   ]
  },
  {
   "cell_type": "code",
   "execution_count": 74,
   "id": "5c49c577",
   "metadata": {},
   "outputs": [
    {
     "data": {
      "text/plain": [
       "array([ 1.,  2.,  3.,  4.,  5.,  6.,  7.,  8.,  9., 10.])"
      ]
     },
     "execution_count": 74,
     "metadata": {},
     "output_type": "execute_result"
    }
   ],
   "source": [
    "np.linspace(1,10,10) #start from 1, end at 10, create 10 divisions\n",
    "#by default it creates 50 divisions"
   ]
  },
  {
   "cell_type": "code",
   "execution_count": 75,
   "id": "ee19ca7c",
   "metadata": {},
   "outputs": [
    {
     "data": {
      "text/plain": [
       "array([0.        , 0.02040816, 0.04081633, 0.06122449, 0.08163265,\n",
       "       0.10204082, 0.12244898, 0.14285714, 0.16326531, 0.18367347,\n",
       "       0.20408163, 0.2244898 , 0.24489796, 0.26530612, 0.28571429,\n",
       "       0.30612245, 0.32653061, 0.34693878, 0.36734694, 0.3877551 ,\n",
       "       0.40816327, 0.42857143, 0.44897959, 0.46938776, 0.48979592,\n",
       "       0.51020408, 0.53061224, 0.55102041, 0.57142857, 0.59183673,\n",
       "       0.6122449 , 0.63265306, 0.65306122, 0.67346939, 0.69387755,\n",
       "       0.71428571, 0.73469388, 0.75510204, 0.7755102 , 0.79591837,\n",
       "       0.81632653, 0.83673469, 0.85714286, 0.87755102, 0.89795918,\n",
       "       0.91836735, 0.93877551, 0.95918367, 0.97959184, 1.        ])"
      ]
     },
     "execution_count": 75,
     "metadata": {},
     "output_type": "execute_result"
    }
   ],
   "source": [
    "np.linspace(0,1)"
   ]
  },
  {
   "cell_type": "code",
   "execution_count": 79,
   "id": "270d3071",
   "metadata": {},
   "outputs": [
    {
     "name": "stdout",
     "output_type": "stream",
     "text": [
      "[ 1.          1.18367347  1.36734694  1.55102041  1.73469388  1.91836735\n",
      "  2.10204082  2.28571429  2.46938776  2.65306122  2.83673469  3.02040816\n",
      "  3.20408163  3.3877551   3.57142857  3.75510204  3.93877551  4.12244898\n",
      "  4.30612245  4.48979592  4.67346939  4.85714286  5.04081633  5.2244898\n",
      "  5.40816327  5.59183673  5.7755102   5.95918367  6.14285714  6.32653061\n",
      "  6.51020408  6.69387755  6.87755102  7.06122449  7.24489796  7.42857143\n",
      "  7.6122449   7.79591837  7.97959184  8.16326531  8.34693878  8.53061224\n",
      "  8.71428571  8.89795918  9.08163265  9.26530612  9.44897959  9.63265306\n",
      "  9.81632653 10.        ]\n",
      "\n",
      "dx=  0.1836734693877551\n"
     ]
    }
   ],
   "source": [
    "# to will also give size of each division by adding optional argument: retstep to True\n",
    "array, dx = np.linspace(1,10,50, retstep=True)\n",
    "\n",
    "print(array)\n",
    "print('\\ndx= ',dx)"
   ]
  },
  {
   "cell_type": "code",
   "execution_count": 73,
   "id": "7a520c44",
   "metadata": {},
   "outputs": [
    {
     "data": {
      "text/plain": [
       "array([ 1.        ,  1.18367347,  1.36734694,  1.55102041,  1.73469388,\n",
       "        1.91836735,  2.10204082,  2.28571429,  2.46938776,  2.65306122,\n",
       "        2.83673469,  3.02040816,  3.20408163,  3.3877551 ,  3.57142857,\n",
       "        3.75510204,  3.93877551,  4.12244898,  4.30612245,  4.48979592,\n",
       "        4.67346939,  4.85714286,  5.04081633,  5.2244898 ,  5.40816327,\n",
       "        5.59183673,  5.7755102 ,  5.95918367,  6.14285714,  6.32653061,\n",
       "        6.51020408,  6.69387755,  6.87755102,  7.06122449,  7.24489796,\n",
       "        7.42857143,  7.6122449 ,  7.79591837,  7.97959184,  8.16326531,\n",
       "        8.34693878,  8.53061224,  8.71428571,  8.89795918,  9.08163265,\n",
       "        9.26530612,  9.44897959,  9.63265306,  9.81632653, 10.        ])"
      ]
     },
     "execution_count": 73,
     "metadata": {},
     "output_type": "execute_result"
    }
   ],
   "source": [
    "# by adding optional argument \n",
    "np.linspace(1,10)"
   ]
  },
  {
   "cell_type": "code",
   "execution_count": 82,
   "id": "cd342e94",
   "metadata": {},
   "outputs": [
    {
     "data": {
      "text/plain": [
       "array([[ 0.,  0.,  0.,  0.,  0.],\n",
       "       [ 0.,  1.,  2.,  3.,  4.],\n",
       "       [ 0.,  2.,  4.,  6.,  8.],\n",
       "       [ 0.,  3.,  6.,  9., 12.],\n",
       "       [ 0.,  4.,  8., 12., 16.]])"
      ]
     },
     "execution_count": 82,
     "metadata": {},
     "output_type": "execute_result"
    }
   ],
   "source": [
    "# from function\n",
    "\n",
    "def f(i,j):\n",
    "    return i*j\n",
    "\n",
    "np.fromfunction(f, (5,5))\n",
    "#this creates 5*5 array in which each [i,j]th element of array has value associated with function f(i,j)"
   ]
  },
  {
   "cell_type": "code",
   "execution_count": 83,
   "id": "d3fab397",
   "metadata": {},
   "outputs": [
    {
     "data": {
      "text/plain": [
       "array([[ 0.,  1.,  4.,  9., 16.],\n",
       "       [ 1.,  2.,  5., 10., 17.],\n",
       "       [ 4.,  5.,  8., 13., 20.],\n",
       "       [ 9., 10., 13., 18., 25.],\n",
       "       [16., 17., 20., 25., 32.]])"
      ]
     },
     "execution_count": 83,
     "metadata": {},
     "output_type": "execute_result"
    }
   ],
   "source": [
    "#we can even use lambda expression instead of defining a separate function:\n",
    "np.fromfunction((lambda i,j: i**2+j**2), (5,5))"
   ]
  },
  {
   "cell_type": "code",
   "execution_count": null,
   "id": "64548bab",
   "metadata": {},
   "outputs": [],
   "source": []
  },
  {
   "cell_type": "markdown",
   "id": "207a1065",
   "metadata": {},
   "source": [
    "**create a “comb” of values in an array of length N for which every nth element is one but with zeros everywhere else:**\n"
   ]
  },
  {
   "cell_type": "code",
   "execution_count": 87,
   "id": "f1289b85",
   "metadata": {},
   "outputs": [
    {
     "data": {
      "text/plain": [
       "array([1, 0, 0, 1, 0, 0, 1, 0, 0, 1, 0, 0, 1, 0, 0, 1, 0, 0, 1, 0, 0, 1,\n",
       "       0, 0, 1, 0, 0, 1, 0, 0, 1, 0, 0, 1, 0, 0, 1, 0, 0, 1, 0, 0, 1, 0,\n",
       "       0, 1, 0, 0, 1, 0, 0, 1, 0, 0, 1, 0, 0, 1, 0, 0, 1, 0, 0, 1, 0, 0,\n",
       "       1, 0, 0, 1, 0, 0, 1, 0, 0, 1, 0, 0, 1, 0, 0, 1, 0, 0, 1, 0, 0, 1,\n",
       "       0, 0, 1, 0, 0, 1, 0, 0, 1, 0, 0, 1, 0, 0, 1, 0, 0, 1, 0, 0, 1, 0,\n",
       "       0, 1, 0, 0, 1, 0, 0, 1, 0, 0, 1, 0, 0, 1, 0, 0, 1, 0, 0, 1, 0, 0,\n",
       "       1, 0, 0, 1, 0, 0, 1, 0, 0, 1, 0, 0, 1, 0, 0, 1, 0, 0, 1, 0, 0, 1,\n",
       "       0, 0, 1, 0, 0, 1, 0, 0, 1, 0, 0, 1, 0, 0, 1, 0, 0, 1, 0, 0, 1, 0,\n",
       "       0, 1, 0, 0, 1, 0, 0, 1, 0, 0, 1, 0, 0, 1, 0, 0, 1, 0, 0, 1, 0, 0,\n",
       "       1, 0])"
      ]
     },
     "execution_count": 87,
     "metadata": {},
     "output_type": "execute_result"
    }
   ],
   "source": [
    "N = 200\n",
    "n = 3\n",
    "\n",
    "np.fromfunction(lambda i:(i%n==0)*1, (N,))"
   ]
  },
  {
   "cell_type": "code",
   "execution_count": 85,
   "id": "54134097",
   "metadata": {},
   "outputs": [
    {
     "data": {
      "text/plain": [
       "0"
      ]
     },
     "execution_count": 85,
     "metadata": {},
     "output_type": "execute_result"
    }
   ],
   "source": [
    "False*1"
   ]
  },
  {
   "attachments": {
    "image.png": {
     "image/png": "[encoded data removed]"
    }
   },
   "cell_type": "markdown",
   "id": "3d9b8478",
   "metadata": {},
   "source": [
    "### 1.3 ndarray attributes and Data types\n",
    "\n",
    "![image.png](attachment:image.png)"
   ]
  },
  {
   "cell_type": "code",
   "execution_count": 69,
   "id": "35dc58fc",
   "metadata": {},
   "outputs": [
    {
     "data": {
      "text/plain": [
       "(array([ 5.        ,  5.20408163,  5.40816327,  5.6122449 ,  5.81632653,\n",
       "         6.02040816,  6.2244898 ,  6.42857143,  6.63265306,  6.83673469,\n",
       "         7.04081633,  7.24489796,  7.44897959,  7.65306122,  7.85714286,\n",
       "         8.06122449,  8.26530612,  8.46938776,  8.67346939,  8.87755102,\n",
       "         9.08163265,  9.28571429,  9.48979592,  9.69387755,  9.89795918,\n",
       "        10.10204082, 10.30612245, 10.51020408, 10.71428571, 10.91836735,\n",
       "        11.12244898, 11.32653061, 11.53061224, 11.73469388, 11.93877551,\n",
       "        12.14285714, 12.34693878, 12.55102041, 12.75510204, 12.95918367,\n",
       "        13.16326531, 13.36734694, 13.57142857, 13.7755102 , 13.97959184,\n",
       "        14.18367347, 14.3877551 , 14.59183673, 14.79591837, 15.        ]),\n",
       " array([[ 1.,  1.],\n",
       "        [ 2.,  3.],\n",
       "        [ 3.,  6.],\n",
       "        [ 4., 10.],\n",
       "        [ 5., 15.],\n",
       "        [ 6., 21.],\n",
       "        [ 7., 28.],\n",
       "        [ 8., 36.],\n",
       "        [ 9., 45.],\n",
       "        [10., 55.]]))"
      ]
     },
     "execution_count": 69,
     "metadata": {},
     "output_type": "execute_result"
    }
   ],
   "source": [
    "arr = np.linspace(5,15,50)\n",
    "arr_2 = np.array([[n,n*(n+1)/2] for n in range(1,11)], dtype=float)\n",
    "\n",
    "arr, arr_2"
   ]
  },
  {
   "cell_type": "code",
   "execution_count": 70,
   "id": "4cf61992",
   "metadata": {},
   "outputs": [
    {
     "data": {
      "text/plain": [
       "((50,), (10, 2))"
      ]
     },
     "execution_count": 70,
     "metadata": {},
     "output_type": "execute_result"
    }
   ],
   "source": [
    "arr.shape, arr_2.shape"
   ]
  },
  {
   "cell_type": "code",
   "execution_count": 71,
   "id": "bc9a2893",
   "metadata": {},
   "outputs": [
    {
     "data": {
      "text/plain": [
       "(1, 2)"
      ]
     },
     "execution_count": 71,
     "metadata": {},
     "output_type": "execute_result"
    }
   ],
   "source": [
    "arr.ndim, arr_2.ndim"
   ]
  },
  {
   "cell_type": "code",
   "execution_count": 72,
   "id": "a1120846",
   "metadata": {},
   "outputs": [
    {
     "data": {
      "text/plain": [
       "(True, 50)"
      ]
     },
     "execution_count": 72,
     "metadata": {},
     "output_type": "execute_result"
    }
   ],
   "source": [
    "arr.size == len(arr) , arr.size\n"
   ]
  },
  {
   "cell_type": "code",
   "execution_count": 73,
   "id": "e689c975",
   "metadata": {},
   "outputs": [
    {
     "data": {
      "text/plain": [
       "(True, 20)"
      ]
     },
     "execution_count": 73,
     "metadata": {},
     "output_type": "execute_result"
    }
   ],
   "source": [
    "len(arr_2) != arr_2.size  , arr_2.size"
   ]
  },
  {
   "cell_type": "code",
   "execution_count": 74,
   "id": "7f0e04e6",
   "metadata": {},
   "outputs": [
    {
     "data": {
      "text/plain": [
       "dtype('float64')"
      ]
     },
     "execution_count": 74,
     "metadata": {},
     "output_type": "execute_result"
    }
   ],
   "source": [
    "arr_2.dtype"
   ]
  },
  {
   "cell_type": "code",
   "execution_count": 51,
   "id": "2c3f6603",
   "metadata": {},
   "outputs": [
    {
     "data": {
      "text/plain": [
       "(<memory at 0x000001BABFC222B0>, <memory at 0x000001BABF655040>)"
      ]
     },
     "execution_count": 51,
     "metadata": {},
     "output_type": "execute_result"
    }
   ],
   "source": [
    "arr_2.data, arr.data"
   ]
  },
  {
   "cell_type": "code",
   "execution_count": 52,
   "id": "c8717cc0",
   "metadata": {},
   "outputs": [
    {
     "data": {
      "text/plain": [
       "4"
      ]
     },
     "execution_count": 52,
     "metadata": {},
     "output_type": "execute_result"
    }
   ],
   "source": [
    "arr_2.itemsize"
   ]
  },
  {
   "cell_type": "code",
   "execution_count": 67,
   "id": "ac314414",
   "metadata": {},
   "outputs": [
    {
     "data": {
      "text/plain": [
       "array([ 88, -68,  32], dtype=int8)"
      ]
     },
     "execution_count": 67,
     "metadata": {},
     "output_type": "execute_result"
    }
   ],
   "source": [
    "np.array((600,700,800), dtype='int8')"
   ]
  },
  {
   "cell_type": "code",
   "execution_count": 104,
   "id": "48f78900",
   "metadata": {},
   "outputs": [
    {
     "data": {
      "text/plain": [
       "array([255,   1, 255, 254], dtype=uint8)"
      ]
     },
     "execution_count": 104,
     "metadata": {},
     "output_type": "execute_result"
    }
   ],
   "source": [
    "np.array((255,257,-1,255*2), dtype='u1')\n",
    "\n",
    "#these value don't show true values bz, by explicitly mentioning dtype=u1\n",
    "#we are forcing to allocate size of just 1byte(8 bits) to store a unsigned integer\n",
    "#so, the range of values that can be strored in 1byte is\n",
    "#2^8-1 = 0 to 255 , thus this range of values can be stored correctly in this array\n",
    "#for values beyond range, it is then again stored to suitable rounded number"
   ]
  },
  {
   "cell_type": "code",
   "execution_count": 127,
   "id": "4534be7e",
   "metadata": {},
   "outputs": [
    {
     "data": {
      "text/plain": [
       "array([ 1.e+10, -1.e+03], dtype=float32)"
      ]
     },
     "execution_count": 127,
     "metadata": {},
     "output_type": "execute_result"
    }
   ],
   "source": [
    "np.array((10**10, -10**3), dtype='<f4')"
   ]
  },
  {
   "cell_type": "markdown",
   "id": "40653cb8",
   "metadata": {},
   "source": [
    "**Data types**\n",
    "\n",
    "thus, the possible datatypes we can mention are:\n",
    "integer:  unsigned: u1,u2,u4,u8\n",
    "            signed: i1,i2,i4,i8 where number represents bytes\n",
    "            \n",
    "floating points: f2,f4,f8\n",
    "\n",
    "string: \n",
    "encoded string= a{n}, or S{n} or |S{n} or |a{n}\n",
    "U{n} where n is maximum length of string that can be stored,  because each character occupies a byte of memory"
   ]
  },
  {
   "cell_type": "code",
   "execution_count": 165,
   "id": "10851805",
   "metadata": {},
   "outputs": [
    {
     "data": {
      "text/plain": [
       "array([b'a', b'b', b'c', b'abcde'], dtype='|S5')"
      ]
     },
     "execution_count": 165,
     "metadata": {},
     "output_type": "execute_result"
    }
   ],
   "source": [
    "np.array(['a','b','c','abcde'], dtype='|S5') #can store upto 5byte of character "
   ]
  },
  {
   "cell_type": "code",
   "execution_count": 174,
   "id": "4acbf942",
   "metadata": {},
   "outputs": [
    {
     "data": {
      "text/plain": [
       "array(['ashim ', 'badhfi', 'εεΘΠ', 'abcdef', '☺', '(*/ω＼*'], dtype='<U6')"
      ]
     },
     "execution_count": 174,
     "metadata": {},
     "output_type": "execute_result"
    }
   ],
   "source": [
    "#unicode can be stored in U datatype\n",
    "np.array(['ashim paudel','badhfid','εεΘΠ','abcdef','☺','(*/ω＼*)'], dtype='U6') #this will only store upto 6 byte and neglect character more than 5"
   ]
  },
  {
   "cell_type": "code",
   "execution_count": 172,
   "id": "0427467c",
   "metadata": {},
   "outputs": [
    {
     "ename": "UnicodeEncodeError",
     "evalue": "'ascii' codec can't encode character '\\u03b6' in position 0: ordinal not in range(128)",
     "output_type": "error",
     "traceback": [
      "\u001b[1;31m---------------------------------------------------------------------------\u001b[0m",
      "\u001b[1;31mUnicodeEncodeError\u001b[0m                        Traceback (most recent call last)",
      "\u001b[1;32m~\\AppData\\Local\\Temp/ipykernel_14192/1134984426.py\u001b[0m in \u001b[0;36m<module>\u001b[1;34m\u001b[0m\n\u001b[0;32m      1\u001b[0m \u001b[1;31m#but we can't store unicode in S dtypye:\u001b[0m\u001b[1;33m\u001b[0m\u001b[1;33m\u001b[0m\u001b[1;33m\u001b[0m\u001b[0m\n\u001b[1;32m----> 2\u001b[1;33m \u001b[0mnp\u001b[0m\u001b[1;33m.\u001b[0m\u001b[0marray\u001b[0m\u001b[1;33m(\u001b[0m\u001b[1;33m[\u001b[0m\u001b[1;34m'ζ'\u001b[0m\u001b[1;33m,\u001b[0m\u001b[1;34m'(*/ω＼*)'\u001b[0m\u001b[1;33m]\u001b[0m\u001b[1;33m,\u001b[0m \u001b[0mdtype\u001b[0m\u001b[1;33m=\u001b[0m\u001b[1;34m'S4'\u001b[0m\u001b[1;33m)\u001b[0m\u001b[1;33m\u001b[0m\u001b[1;33m\u001b[0m\u001b[0m\n\u001b[0m",
      "\u001b[1;31mUnicodeEncodeError\u001b[0m: 'ascii' codec can't encode character '\\u03b6' in position 0: ordinal not in range(128)"
     ]
    }
   ],
   "source": [
    "#but we can't store unicode in S dtypye:\n",
    "np.array(['ζ','(*/ω＼*)'], dtype='S4')"
   ]
  },
  {
   "cell_type": "code",
   "execution_count": 154,
   "id": "b38e4feb",
   "metadata": {},
   "outputs": [
    {
     "data": {
      "text/plain": [
       "dtype('int64')"
      ]
     },
     "execution_count": 154,
     "metadata": {},
     "output_type": "execute_result"
    }
   ],
   "source": [
    "np.dtype('S') "
   ]
  },
  {
   "cell_type": "code",
   "execution_count": null,
   "id": "de5bacbd",
   "metadata": {},
   "outputs": [],
   "source": []
  },
  {
   "cell_type": "markdown",
   "id": "15817b1b",
   "metadata": {},
   "source": [
    "***Universal function***\n",
    "All functions provided by math module are valid for use in numpy module too.\n",
    "\n",
    "`np.sin(), np.cos(),.......,   np.sqrt()`"
   ]
  },
  {
   "cell_type": "markdown",
   "id": "971d68d6",
   "metadata": {},
   "source": [
    "#### Array Multiplication\n",
    "- `a*b` elementwise multiplication\n",
    "- `a@b` matrix multiplication of array"
   ]
  },
  {
   "cell_type": "code",
   "execution_count": null,
   "id": "4080e01f",
   "metadata": {},
   "outputs": [],
   "source": [
    "a = np.array(((3,4),(5,6)))\n",
    "b = np.array((1,2))\n",
    "c = a*b #element multipilcation\n",
    "d = a@b #matrix multiplication\n"
   ]
  },
  {
   "cell_type": "markdown",
   "id": "aab75247",
   "metadata": {},
   "source": [
    "for matrix multiplication: b is treated as column matrix\n",
    "for 2d matrix: largest tuple: matrix\n",
    "                smallest tuple: each row of matrix\n",
    "                \n",
    "so, (3,4),(5,6),(7,8) will act as matrix of 3 rows and 2 cols"
   ]
  },
  {
   "cell_type": "code",
   "execution_count": 193,
   "id": "16549d62",
   "metadata": {},
   "outputs": [
    {
     "data": {
      "text/plain": [
       "array([11, 17])"
      ]
     },
     "execution_count": 193,
     "metadata": {},
     "output_type": "execute_result"
    }
   ],
   "source": [
    "d"
   ]
  },
  {
   "cell_type": "code",
   "execution_count": 194,
   "id": "ae898b6c",
   "metadata": {},
   "outputs": [
    {
     "data": {
      "text/plain": [
       "(array([[3, 4],\n",
       "        [5, 6]]),\n",
       " array([1, 2]))"
      ]
     },
     "execution_count": 194,
     "metadata": {},
     "output_type": "execute_result"
    }
   ],
   "source": [
    "a,b\n"
   ]
  },
  {
   "cell_type": "markdown",
   "id": "30fb173c",
   "metadata": {},
   "source": [
    "#### nan(Not a number) and inf (Infinity)"
   ]
  },
  {
   "cell_type": "markdown",
   "id": "9a6af896",
   "metadata": {},
   "source": [
    "in order to check if the value is `nan` or `infinity`:\n",
    "numpy has built in methods:\n",
    "`np.isnan(value)` and `np.isinf(n)` or `np.isfinite(n)`\n"
   ]
  },
  {
   "cell_type": "code",
   "execution_count": 195,
   "id": "57886edf",
   "metadata": {},
   "outputs": [],
   "source": [
    "a = np.arange(4, dtype='f8')"
   ]
  },
  {
   "cell_type": "code",
   "execution_count": 196,
   "id": "13262380",
   "metadata": {},
   "outputs": [
    {
     "name": "stderr",
     "output_type": "stream",
     "text": [
      "C:\\Users\\paude\\AppData\\Local\\Temp/ipykernel_14192/1290597141.py:1: RuntimeWarning: divide by zero encountered in true_divide\n",
      "  a /=0\n",
      "C:\\Users\\paude\\AppData\\Local\\Temp/ipykernel_14192/1290597141.py:1: RuntimeWarning: invalid value encountered in true_divide\n",
      "  a /=0\n"
     ]
    }
   ],
   "source": [
    "a /=0"
   ]
  },
  {
   "cell_type": "code",
   "execution_count": 210,
   "id": "7b65063a",
   "metadata": {},
   "outputs": [
    {
     "data": {
      "text/plain": [
       "(False,\n",
       " False,\n",
       " array([ True, False, False, False]),\n",
       " array([False,  True,  True,  True]))"
      ]
     },
     "execution_count": 210,
     "metadata": {},
     "output_type": "execute_result"
    }
   ],
   "source": [
    "np.isnan(8), np.isnan(8.1), np.isnan(a), np.isinf(a)"
   ]
  },
  {
   "cell_type": "code",
   "execution_count": null,
   "id": "7996932e",
   "metadata": {},
   "outputs": [],
   "source": []
  },
  {
   "cell_type": "markdown",
   "id": "6e13b934",
   "metadata": {},
   "source": [
    "#### Magic square (Question)\n",
    "\n",
    "A magic square is an N × N grid of numbers in which the entries in\n",
    "each row, column and main diagonal sum to the same number (equal to $N(N^2 + 1)/2)$.\n",
    "A method for constructing a magic square for odd N is as follows:\n",
    "1. Start in the middle of the top row, and let n = 1.\n",
    "2. Insert n into the current grid position.\n",
    "3. If $n = N^2$ the grid is complete so stop. Otherwise, increment n.\n",
    "4. Move diagonally up and right, wrapping to the first column or last row if the move leads outside the grid. If this cell is already filled, move vertically down one space instead.\n",
    "5. Return to step 2.\n"
   ]
  },
  {
   "cell_type": "code",
   "execution_count": 224,
   "id": "53578ae2",
   "metadata": {},
   "outputs": [
    {
     "name": "stdout",
     "output_type": "stream",
     "text": [
      "[[8 1 6]\n",
      " [3 5 7]\n",
      " [4 9 2]]\n"
     ]
    }
   ],
   "source": [
    "# creating a magic square:\n",
    "N = 3\n",
    "magic_square = np.zeros((N,N), dtype='i8')\n",
    "\n",
    "n = 1\n",
    "i,j = 0, N//2\n",
    "while n<=N**2:\n",
    "    magic_square[i,j] = n\n",
    "    n += 1\n",
    "    new_i, new_j = (i-1)%N, (j+1)%N\n",
    "    if magic_square[new_i, new_j]:\n",
    "        i += 1\n",
    "    else:\n",
    "        i, j = new_i, new_j\n",
    "print(magic_square)\n",
    "    "
   ]
  },
  {
   "cell_type": "code",
   "execution_count": 214,
   "id": "f1f47c62",
   "metadata": {},
   "outputs": [
    {
     "data": {
      "text/plain": [
       "array([[0, 0, 0, 0, 0],\n",
       "       [0, 0, 0, 0, 0],\n",
       "       [0, 0, 0, 0, 0],\n",
       "       [0, 0, 0, 0, 0],\n",
       "       [0, 0, 0, 0, 0]], dtype=int64)"
      ]
     },
     "execution_count": 214,
     "metadata": {},
     "output_type": "execute_result"
    }
   ],
   "source": [
    "magic_square"
   ]
  },
  {
   "cell_type": "code",
   "execution_count": 227,
   "id": "eaa86411",
   "metadata": {},
   "outputs": [
    {
     "data": {
      "text/plain": [
       "3"
      ]
     },
     "execution_count": 227,
     "metadata": {},
     "output_type": "execute_result"
    }
   ],
   "source": [
    "3%5"
   ]
  },
  {
   "cell_type": "code",
   "execution_count": null,
   "id": "cb3443be",
   "metadata": {},
   "outputs": [],
   "source": []
  }
 ],
 "metadata": {
  "kernelspec": {
   "display_name": "Python 3 (ipykernel)",
   "language": "python",
   "name": "python3"
  },
  "language_info": {
   "codemirror_mode": {
    "name": "ipython",
    "version": 3
   },
   "file_extension": ".py",
   "mimetype": "text/x-python",
   "name": "python",
   "nbconvert_exporter": "python",
   "pygments_lexer": "ipython3",
   "version": "3.8.10"
  }
 },
 "nbformat": 4,
 "nbformat_minor": 5
}
