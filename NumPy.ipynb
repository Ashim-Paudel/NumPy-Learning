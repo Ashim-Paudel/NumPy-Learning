{
 "cells": [
  {
   "cell_type": "code",
   "execution_count": 182,
   "id": "45c7276e",
   "metadata": {},
   "outputs": [],
   "source": [
    "import numpy as np #importing numpy package\n",
    "import matplotlib.pyplot as plt #to visualize \n",
    "import random  #might require to generate data\n",
    "plt.rc('font', family=\"serif\", size=15)"
   ]
  },
  {
   "cell_type": "markdown",
   "id": "319d922c",
   "metadata": {},
   "source": [
    "## 1. The basics"
   ]
  },
  {
   "cell_type": "markdown",
   "id": "0b9d5437",
   "metadata": {},
   "source": [
    "### 1.1 The basic array method\n",
    "- Unlike Python lists and tuples, the elements cannot be of different types: each element in a NumPy array has the same type, which is specified by an associated data type object (dtype).\n",
    "- The dimensions of a NumPy array are called axes; the number of axes an array has is called its rank.\n",
    "- **syntax for array:** `np.array(#any iterable objects having same data type)`"
   ]
  },
  {
   "cell_type": "code",
   "execution_count": 31,
   "id": "75c15d90",
   "metadata": {},
   "outputs": [
    {
     "data": {
      "text/plain": [
       "(array([1, 2, 3, 4, 5, 6]),\n",
       " array([5, 6, 7, 8]),\n",
       " array(['ram', 'shyam', 'hari'], dtype='<U5'))"
      ]
     },
     "execution_count": 31,
     "metadata": {},
     "output_type": "execute_result"
    }
   ],
   "source": [
    "#one dimensional array- pass list or tuple :\n",
    "a = np.array((1,2,3,4,5,6))\n",
    "b = np.array([5,6,7,8])\n",
    "c = np.array(('ram','shyam','hari'))\n",
    "a,b,c"
   ]
  },
  {
   "cell_type": "code",
   "execution_count": 26,
   "id": "1fd836f9",
   "metadata": {},
   "outputs": [
    {
     "data": {
      "text/plain": [
       "array([[1, 2],\n",
       "       [2, 4],\n",
       "       [3, 6],\n",
       "       [4, 8]])"
      ]
     },
     "execution_count": 26,
     "metadata": {},
     "output_type": "execute_result"
    }
   ],
   "source": [
    "#2d array:\n",
    "a_2 = np.array(((1,2), (2,4), (3,6), (4,8)))\n",
    "a_2"
   ]
  },
  {
   "cell_type": "code",
   "execution_count": 55,
   "id": "4c4c0a8f",
   "metadata": {},
   "outputs": [
    {
     "data": {
      "text/plain": [
       "(array([[ 1.+0.j,  6.+0.j],\n",
       "        [ 9.+0.j, 10.+0.j],\n",
       "        [ 5.+0.j,  6.+0.j]]),\n",
       " array([[ 1.,  6.],\n",
       "        [ 9., 10.],\n",
       "        [ 5.,  6.]]),\n",
       " array([['1', '6'],\n",
       "        ['9', '10'],\n",
       "        ['5', '6']], dtype='<U2'),\n",
       " array([[ 1.,  6.],\n",
       "        [ 9., 10.],\n",
       "        [ 5.,  6.]]),\n",
       " array([['1', '6'],\n",
       "        ['9', '10'],\n",
       "        ['5', 'a string to force all data type to string']], dtype='<U41'))"
      ]
     },
     "execution_count": 55,
     "metadata": {},
     "output_type": "execute_result"
    }
   ],
   "source": [
    "#we can explicitly assign datatype too:\n",
    "b_2 = np.array([[1,6], [9,10], [5,6]],dtype=complex)\n",
    "b_2i = np.array([[1,6], [9,10], [5,6]], dtype=float) #explicitly mentioning the datatype\n",
    "b_fs = np.array([[1,6], [9,10], [5,6]], dtype=str) #explicitly mentioning the datatype\n",
    "b_21 = np.array([[1,6], [9,10], [5,6.0]] ) #np will adjust its array datatype to best make all same type of data\n",
    "b_2s = np.array([[1,6], [9,10],[5,'a string to force all data type to string']])\n",
    "\n",
    "b_2, b_2i,b_fs, b_21, b_2s #b_2s will have all string data type"
   ]
  },
  {
   "cell_type": "code",
   "execution_count": 56,
   "id": "e07a7934",
   "metadata": {},
   "outputs": [
    {
     "data": {
      "text/plain": [
       "3"
      ]
     },
     "execution_count": 56,
     "metadata": {},
     "output_type": "execute_result"
    }
   ],
   "source": [
    "#accessing array elements\n",
    "a_2 = np.array(((1,2), (2,4), (3,6), (4,8)))\n",
    "a_2[2,0]"
   ]
  },
  {
   "cell_type": "code",
   "execution_count": 57,
   "id": "0bf8c48b",
   "metadata": {},
   "outputs": [
    {
     "data": {
      "text/plain": [
       "(array([[4.24399158e-314, 8.48798316e-314],\n",
       "        [1.27319747e-313, 1.69759663e-313]]),\n",
       " array([[0., 0., 0.],\n",
       "        [0., 0., 0.],\n",
       "        [0., 0., 0.]]),\n",
       " array([[1., 1., 1., 1., 1.],\n",
       "        [1., 1., 1., 1., 1.]]))"
      ]
     },
     "execution_count": 57,
     "metadata": {},
     "output_type": "execute_result"
    }
   ],
   "source": [
    "#array initialization/ creation when actual value and size of array required is unknown:\n",
    "_1 = np.empty((2,2)) #gives garbage value of 2*2 array\n",
    "_2 = np.zeros((3,3)) #gives 3*3 array of only 0\n",
    "_3 = np.ones((2,5)) #only ones\n",
    "\n",
    "_1, _2, _3"
   ]
  },
  {
   "cell_type": "code",
   "execution_count": 60,
   "id": "473a9f6e",
   "metadata": {},
   "outputs": [
    {
     "data": {
      "text/plain": [
       "(array([[1., 1., 1.],\n",
       "        [1., 1., 1.],\n",
       "        [1., 1., 1.]]),\n",
       " array([[0., 0., 0., 0., 0.],\n",
       "        [0., 0., 0., 0., 0.]]))"
      ]
     },
     "execution_count": 60,
     "metadata": {},
     "output_type": "execute_result"
    }
   ],
   "source": [
    "#to initialize an empty array of size equal to another array:\n",
    "\n",
    "a = np.ones_like(_2) #create array of size as _2 array but containing one\n",
    "b = np.zeros_like(_3)\n",
    "a,b"
   ]
  },
  {
   "cell_type": "code",
   "execution_count": null,
   "id": "526417e0",
   "metadata": {},
   "outputs": [],
   "source": []
  },
  {
   "cell_type": "markdown",
   "id": "92467be2",
   "metadata": {},
   "source": [
    "### 1.2 Initializing an array from a sequence and function\n",
    "- `np.arange()` to create array containing range of values (may exclude end value)\n",
    "- `np.linspace()` to create array of cetrain range of values with equal spacing, including both end values\n",
    "- `np.fromfunction(function, shape)`"
   ]
  },
  {
   "cell_type": "code",
   "execution_count": 80,
   "id": "e022365b",
   "metadata": {},
   "outputs": [
    {
     "data": {
      "text/plain": [
       "array([0, 1, 2, 3, 4, 5, 6])"
      ]
     },
     "execution_count": 80,
     "metadata": {},
     "output_type": "execute_result"
    }
   ],
   "source": [
    "# to create an array cont\n",
    "np.arange(7)"
   ]
  },
  {
   "cell_type": "code",
   "execution_count": 67,
   "id": "06e44605",
   "metadata": {},
   "outputs": [
    {
     "data": {
      "text/plain": [
       "array([5.  , 5.01, 5.02, 5.03, 5.04, 5.05, 5.06, 5.07, 5.08, 5.09, 5.1 ,\n",
       "       5.11, 5.12, 5.13, 5.14, 5.15, 5.16, 5.17, 5.18, 5.19, 5.2 , 5.21,\n",
       "       5.22, 5.23, 5.24, 5.25, 5.26, 5.27, 5.28, 5.29, 5.3 , 5.31, 5.32,\n",
       "       5.33, 5.34, 5.35, 5.36, 5.37, 5.38, 5.39, 5.4 , 5.41, 5.42, 5.43,\n",
       "       5.44, 5.45, 5.46, 5.47, 5.48, 5.49, 5.5 , 5.51, 5.52, 5.53, 5.54,\n",
       "       5.55, 5.56, 5.57, 5.58, 5.59, 5.6 , 5.61, 5.62, 5.63, 5.64, 5.65,\n",
       "       5.66, 5.67, 5.68, 5.69, 5.7 , 5.71, 5.72, 5.73, 5.74, 5.75, 5.76,\n",
       "       5.77, 5.78, 5.79, 5.8 , 5.81, 5.82, 5.83, 5.84, 5.85, 5.86, 5.87,\n",
       "       5.88, 5.89, 5.9 , 5.91, 5.92, 5.93, 5.94, 5.95, 5.96, 5.97, 5.98,\n",
       "       5.99])"
      ]
     },
     "execution_count": 67,
     "metadata": {},
     "output_type": "execute_result"
    }
   ],
   "source": [
    "np.arange(5,6,.01)"
   ]
  },
  {
   "cell_type": "code",
   "execution_count": 74,
   "id": "5c49c577",
   "metadata": {},
   "outputs": [
    {
     "data": {
      "text/plain": [
       "array([ 1.,  2.,  3.,  4.,  5.,  6.,  7.,  8.,  9., 10.])"
      ]
     },
     "execution_count": 74,
     "metadata": {},
     "output_type": "execute_result"
    }
   ],
   "source": [
    "np.linspace(1,10,10) #start from 1, end at 10, create 10 divisions\n",
    "#by default it creates 50 divisions"
   ]
  },
  {
   "cell_type": "code",
   "execution_count": 75,
   "id": "ee19ca7c",
   "metadata": {},
   "outputs": [
    {
     "data": {
      "text/plain": [
       "array([0.        , 0.02040816, 0.04081633, 0.06122449, 0.08163265,\n",
       "       0.10204082, 0.12244898, 0.14285714, 0.16326531, 0.18367347,\n",
       "       0.20408163, 0.2244898 , 0.24489796, 0.26530612, 0.28571429,\n",
       "       0.30612245, 0.32653061, 0.34693878, 0.36734694, 0.3877551 ,\n",
       "       0.40816327, 0.42857143, 0.44897959, 0.46938776, 0.48979592,\n",
       "       0.51020408, 0.53061224, 0.55102041, 0.57142857, 0.59183673,\n",
       "       0.6122449 , 0.63265306, 0.65306122, 0.67346939, 0.69387755,\n",
       "       0.71428571, 0.73469388, 0.75510204, 0.7755102 , 0.79591837,\n",
       "       0.81632653, 0.83673469, 0.85714286, 0.87755102, 0.89795918,\n",
       "       0.91836735, 0.93877551, 0.95918367, 0.97959184, 1.        ])"
      ]
     },
     "execution_count": 75,
     "metadata": {},
     "output_type": "execute_result"
    }
   ],
   "source": [
    "np.linspace(0,1)"
   ]
  },
  {
   "cell_type": "code",
   "execution_count": 79,
   "id": "270d3071",
   "metadata": {},
   "outputs": [
    {
     "name": "stdout",
     "output_type": "stream",
     "text": [
      "[ 1.          1.18367347  1.36734694  1.55102041  1.73469388  1.91836735\n",
      "  2.10204082  2.28571429  2.46938776  2.65306122  2.83673469  3.02040816\n",
      "  3.20408163  3.3877551   3.57142857  3.75510204  3.93877551  4.12244898\n",
      "  4.30612245  4.48979592  4.67346939  4.85714286  5.04081633  5.2244898\n",
      "  5.40816327  5.59183673  5.7755102   5.95918367  6.14285714  6.32653061\n",
      "  6.51020408  6.69387755  6.87755102  7.06122449  7.24489796  7.42857143\n",
      "  7.6122449   7.79591837  7.97959184  8.16326531  8.34693878  8.53061224\n",
      "  8.71428571  8.89795918  9.08163265  9.26530612  9.44897959  9.63265306\n",
      "  9.81632653 10.        ]\n",
      "\n",
      "dx=  0.1836734693877551\n"
     ]
    }
   ],
   "source": [
    "# to will also give size of each division by adding optional argument: retstep to True\n",
    "array, dx = np.linspace(1,10,50, retstep=True)\n",
    "\n",
    "print(array)\n",
    "print('\\ndx= ',dx)"
   ]
  },
  {
   "cell_type": "code",
   "execution_count": 73,
   "id": "7a520c44",
   "metadata": {},
   "outputs": [
    {
     "data": {
      "text/plain": [
       "array([ 1.        ,  1.18367347,  1.36734694,  1.55102041,  1.73469388,\n",
       "        1.91836735,  2.10204082,  2.28571429,  2.46938776,  2.65306122,\n",
       "        2.83673469,  3.02040816,  3.20408163,  3.3877551 ,  3.57142857,\n",
       "        3.75510204,  3.93877551,  4.12244898,  4.30612245,  4.48979592,\n",
       "        4.67346939,  4.85714286,  5.04081633,  5.2244898 ,  5.40816327,\n",
       "        5.59183673,  5.7755102 ,  5.95918367,  6.14285714,  6.32653061,\n",
       "        6.51020408,  6.69387755,  6.87755102,  7.06122449,  7.24489796,\n",
       "        7.42857143,  7.6122449 ,  7.79591837,  7.97959184,  8.16326531,\n",
       "        8.34693878,  8.53061224,  8.71428571,  8.89795918,  9.08163265,\n",
       "        9.26530612,  9.44897959,  9.63265306,  9.81632653, 10.        ])"
      ]
     },
     "execution_count": 73,
     "metadata": {},
     "output_type": "execute_result"
    }
   ],
   "source": [
    "# by adding optional argument \n",
    "np.linspace(1,10)"
   ]
  },
  {
   "cell_type": "code",
   "execution_count": 82,
   "id": "cd342e94",
   "metadata": {},
   "outputs": [
    {
     "data": {
      "text/plain": [
       "array([[ 0.,  0.,  0.,  0.,  0.],\n",
       "       [ 0.,  1.,  2.,  3.,  4.],\n",
       "       [ 0.,  2.,  4.,  6.,  8.],\n",
       "       [ 0.,  3.,  6.,  9., 12.],\n",
       "       [ 0.,  4.,  8., 12., 16.]])"
      ]
     },
     "execution_count": 82,
     "metadata": {},
     "output_type": "execute_result"
    }
   ],
   "source": [
    "# from function\n",
    "\n",
    "def f(i,j):\n",
    "    return i*j\n",
    "\n",
    "np.fromfunction(f, (5,5))\n",
    "#this creates 5*5 array in which each [i,j]th element of array has value associated with function f(i,j)"
   ]
  },
  {
   "cell_type": "code",
   "execution_count": 83,
   "id": "d3fab397",
   "metadata": {},
   "outputs": [
    {
     "data": {
      "text/plain": [
       "array([[ 0.,  1.,  4.,  9., 16.],\n",
       "       [ 1.,  2.,  5., 10., 17.],\n",
       "       [ 4.,  5.,  8., 13., 20.],\n",
       "       [ 9., 10., 13., 18., 25.],\n",
       "       [16., 17., 20., 25., 32.]])"
      ]
     },
     "execution_count": 83,
     "metadata": {},
     "output_type": "execute_result"
    }
   ],
   "source": [
    "#we can even use lambda expression instead of defining a separate function:\n",
    "np.fromfunction((lambda i,j: i**2+j**2), (5,5))"
   ]
  },
  {
   "cell_type": "code",
   "execution_count": null,
   "id": "64548bab",
   "metadata": {},
   "outputs": [],
   "source": []
  },
  {
   "cell_type": "markdown",
   "id": "207a1065",
   "metadata": {},
   "source": [
    "**create a “comb” of values in an array of length N for which every nth element is one but with zeros everywhere else:**\n"
   ]
  },
  {
   "cell_type": "code",
   "execution_count": 87,
   "id": "f1289b85",
   "metadata": {},
   "outputs": [
    {
     "data": {
      "text/plain": [
       "array([1, 0, 0, 1, 0, 0, 1, 0, 0, 1, 0, 0, 1, 0, 0, 1, 0, 0, 1, 0, 0, 1,\n",
       "       0, 0, 1, 0, 0, 1, 0, 0, 1, 0, 0, 1, 0, 0, 1, 0, 0, 1, 0, 0, 1, 0,\n",
       "       0, 1, 0, 0, 1, 0, 0, 1, 0, 0, 1, 0, 0, 1, 0, 0, 1, 0, 0, 1, 0, 0,\n",
       "       1, 0, 0, 1, 0, 0, 1, 0, 0, 1, 0, 0, 1, 0, 0, 1, 0, 0, 1, 0, 0, 1,\n",
       "       0, 0, 1, 0, 0, 1, 0, 0, 1, 0, 0, 1, 0, 0, 1, 0, 0, 1, 0, 0, 1, 0,\n",
       "       0, 1, 0, 0, 1, 0, 0, 1, 0, 0, 1, 0, 0, 1, 0, 0, 1, 0, 0, 1, 0, 0,\n",
       "       1, 0, 0, 1, 0, 0, 1, 0, 0, 1, 0, 0, 1, 0, 0, 1, 0, 0, 1, 0, 0, 1,\n",
       "       0, 0, 1, 0, 0, 1, 0, 0, 1, 0, 0, 1, 0, 0, 1, 0, 0, 1, 0, 0, 1, 0,\n",
       "       0, 1, 0, 0, 1, 0, 0, 1, 0, 0, 1, 0, 0, 1, 0, 0, 1, 0, 0, 1, 0, 0,\n",
       "       1, 0])"
      ]
     },
     "execution_count": 87,
     "metadata": {},
     "output_type": "execute_result"
    }
   ],
   "source": [
    "N = 200\n",
    "n = 3\n",
    "\n",
    "np.fromfunction(lambda i:(i%n==0)*1, (N,))"
   ]
  },
  {
   "cell_type": "code",
   "execution_count": 85,
   "id": "54134097",
   "metadata": {},
   "outputs": [
    {
     "data": {
      "text/plain": [
       "0"
      ]
     },
     "execution_count": 85,
     "metadata": {},
     "output_type": "execute_result"
    }
   ],
   "source": [
    "False*1"
   ]
  },
  {
   "attachments": {
    "image.png": {
     "image/png": "[encoded data removed]"
    }
   },
   "cell_type": "markdown",
   "id": "3d9b8478",
   "metadata": {},
   "source": [
    "### 1.3 ndarray attributes and Data types\n",
    "\n",
    "![image.png](attachment:image.png)"
   ]
  },
  {
   "cell_type": "code",
   "execution_count": 69,
   "id": "35dc58fc",
   "metadata": {},
   "outputs": [
    {
     "data": {
      "text/plain": [
       "(array([ 5.        ,  5.20408163,  5.40816327,  5.6122449 ,  5.81632653,\n",
       "         6.02040816,  6.2244898 ,  6.42857143,  6.63265306,  6.83673469,\n",
       "         7.04081633,  7.24489796,  7.44897959,  7.65306122,  7.85714286,\n",
       "         8.06122449,  8.26530612,  8.46938776,  8.67346939,  8.87755102,\n",
       "         9.08163265,  9.28571429,  9.48979592,  9.69387755,  9.89795918,\n",
       "        10.10204082, 10.30612245, 10.51020408, 10.71428571, 10.91836735,\n",
       "        11.12244898, 11.32653061, 11.53061224, 11.73469388, 11.93877551,\n",
       "        12.14285714, 12.34693878, 12.55102041, 12.75510204, 12.95918367,\n",
       "        13.16326531, 13.36734694, 13.57142857, 13.7755102 , 13.97959184,\n",
       "        14.18367347, 14.3877551 , 14.59183673, 14.79591837, 15.        ]),\n",
       " array([[ 1.,  1.],\n",
       "        [ 2.,  3.],\n",
       "        [ 3.,  6.],\n",
       "        [ 4., 10.],\n",
       "        [ 5., 15.],\n",
       "        [ 6., 21.],\n",
       "        [ 7., 28.],\n",
       "        [ 8., 36.],\n",
       "        [ 9., 45.],\n",
       "        [10., 55.]]))"
      ]
     },
     "execution_count": 69,
     "metadata": {},
     "output_type": "execute_result"
    }
   ],
   "source": [
    "arr = np.linspace(5,15,50)\n",
    "arr_2 = np.array([[n,n*(n+1)/2] for n in range(1,11)], dtype=float)\n",
    "\n",
    "arr, arr_2"
   ]
  },
  {
   "cell_type": "code",
   "execution_count": 70,
   "id": "4cf61992",
   "metadata": {},
   "outputs": [
    {
     "data": {
      "text/plain": [
       "((50,), (10, 2))"
      ]
     },
     "execution_count": 70,
     "metadata": {},
     "output_type": "execute_result"
    }
   ],
   "source": [
    "arr.shape, arr_2.shape"
   ]
  },
  {
   "cell_type": "code",
   "execution_count": 71,
   "id": "bc9a2893",
   "metadata": {},
   "outputs": [
    {
     "data": {
      "text/plain": [
       "(1, 2)"
      ]
     },
     "execution_count": 71,
     "metadata": {},
     "output_type": "execute_result"
    }
   ],
   "source": [
    "arr.ndim, arr_2.ndim"
   ]
  },
  {
   "cell_type": "code",
   "execution_count": 72,
   "id": "a1120846",
   "metadata": {},
   "outputs": [
    {
     "data": {
      "text/plain": [
       "(True, 50)"
      ]
     },
     "execution_count": 72,
     "metadata": {},
     "output_type": "execute_result"
    }
   ],
   "source": [
    "arr.size == len(arr) , arr.size\n"
   ]
  },
  {
   "cell_type": "code",
   "execution_count": 73,
   "id": "e689c975",
   "metadata": {},
   "outputs": [
    {
     "data": {
      "text/plain": [
       "(True, 20)"
      ]
     },
     "execution_count": 73,
     "metadata": {},
     "output_type": "execute_result"
    }
   ],
   "source": [
    "len(arr_2) != arr_2.size  , arr_2.size"
   ]
  },
  {
   "cell_type": "code",
   "execution_count": 74,
   "id": "7f0e04e6",
   "metadata": {},
   "outputs": [
    {
     "data": {
      "text/plain": [
       "dtype('float64')"
      ]
     },
     "execution_count": 74,
     "metadata": {},
     "output_type": "execute_result"
    }
   ],
   "source": [
    "arr_2.dtype"
   ]
  },
  {
   "cell_type": "code",
   "execution_count": 51,
   "id": "2c3f6603",
   "metadata": {},
   "outputs": [
    {
     "data": {
      "text/plain": [
       "(<memory at 0x000001BABFC222B0>, <memory at 0x000001BABF655040>)"
      ]
     },
     "execution_count": 51,
     "metadata": {},
     "output_type": "execute_result"
    }
   ],
   "source": [
    "arr_2.data, arr.data"
   ]
  },
  {
   "cell_type": "code",
   "execution_count": 52,
   "id": "c8717cc0",
   "metadata": {},
   "outputs": [
    {
     "data": {
      "text/plain": [
       "4"
      ]
     },
     "execution_count": 52,
     "metadata": {},
     "output_type": "execute_result"
    }
   ],
   "source": [
    "arr_2.itemsize"
   ]
  },
  {
   "cell_type": "code",
   "execution_count": 67,
   "id": "ac314414",
   "metadata": {},
   "outputs": [
    {
     "data": {
      "text/plain": [
       "array([ 88, -68,  32], dtype=int8)"
      ]
     },
     "execution_count": 67,
     "metadata": {},
     "output_type": "execute_result"
    }
   ],
   "source": [
    "np.array((600,700,800), dtype='int8')"
   ]
  },
  {
   "cell_type": "code",
   "execution_count": 104,
   "id": "48f78900",
   "metadata": {},
   "outputs": [
    {
     "data": {
      "text/plain": [
       "array([255,   1, 255, 254], dtype=uint8)"
      ]
     },
     "execution_count": 104,
     "metadata": {},
     "output_type": "execute_result"
    }
   ],
   "source": [
    "np.array((255,257,-1,255*2), dtype='u1')\n",
    "\n",
    "#these value don't show true values bz, by explicitly mentioning dtype=u1\n",
    "#we are forcing to allocate size of just 1byte(8 bits) to store a unsigned integer\n",
    "#so, the range of values that can be strored in 1byte is\n",
    "#2^8-1 = 0 to 255 , thus this range of values can be stored correctly in this array\n",
    "#for values beyond range, it is then again stored to suitable rounded number"
   ]
  },
  {
   "cell_type": "code",
   "execution_count": 127,
   "id": "4534be7e",
   "metadata": {},
   "outputs": [
    {
     "data": {
      "text/plain": [
       "array([ 1.e+10, -1.e+03], dtype=float32)"
      ]
     },
     "execution_count": 127,
     "metadata": {},
     "output_type": "execute_result"
    }
   ],
   "source": [
    "np.array((10**10, -10**3), dtype='<f4')"
   ]
  },
  {
   "cell_type": "markdown",
   "id": "40653cb8",
   "metadata": {},
   "source": [
    "**Data types**\n",
    "\n",
    "thus, the possible datatypes we can mention are:\n",
    "integer:  unsigned: u1,u2,u4,u8\n",
    "            signed: i1,i2,i4,i8 where number represents bytes\n",
    "            \n",
    "floating points: f2,f4,f8\n",
    "\n",
    "string: \n",
    "encoded string= a{n}, or S{n} or |S{n} or |a{n}\n",
    "U{n} where n is maximum length of string that can be stored,  because each character occupies a byte of memory"
   ]
  },
  {
   "cell_type": "code",
   "execution_count": 165,
   "id": "10851805",
   "metadata": {},
   "outputs": [
    {
     "data": {
      "text/plain": [
       "array([b'a', b'b', b'c', b'abcde'], dtype='|S5')"
      ]
     },
     "execution_count": 165,
     "metadata": {},
     "output_type": "execute_result"
    }
   ],
   "source": [
    "np.array(['a','b','c','abcde'], dtype='|S5') #can store upto 5byte of character "
   ]
  },
  {
   "cell_type": "code",
   "execution_count": 174,
   "id": "4acbf942",
   "metadata": {},
   "outputs": [
    {
     "data": {
      "text/plain": [
       "array(['ashim ', 'badhfi', 'εεΘΠ', 'abcdef', '☺', '(*/ω＼*'], dtype='<U6')"
      ]
     },
     "execution_count": 174,
     "metadata": {},
     "output_type": "execute_result"
    }
   ],
   "source": [
    "#unicode can be stored in U datatype\n",
    "np.array(['ashim paudel','badhfid','εεΘΠ','abcdef','☺','(*/ω＼*)'], dtype='U6') #this will only store upto 6 byte and neglect character more than 5"
   ]
  },
  {
   "cell_type": "code",
   "execution_count": 172,
   "id": "0427467c",
   "metadata": {},
   "outputs": [
    {
     "ename": "UnicodeEncodeError",
     "evalue": "'ascii' codec can't encode character '\\u03b6' in position 0: ordinal not in range(128)",
     "output_type": "error",
     "traceback": [
      "\u001b[1;31m---------------------------------------------------------------------------\u001b[0m",
      "\u001b[1;31mUnicodeEncodeError\u001b[0m                        Traceback (most recent call last)",
      "\u001b[1;32m~\\AppData\\Local\\Temp/ipykernel_14192/1134984426.py\u001b[0m in \u001b[0;36m<module>\u001b[1;34m\u001b[0m\n\u001b[0;32m      1\u001b[0m \u001b[1;31m#but we can't store unicode in S dtypye:\u001b[0m\u001b[1;33m\u001b[0m\u001b[1;33m\u001b[0m\u001b[1;33m\u001b[0m\u001b[0m\n\u001b[1;32m----> 2\u001b[1;33m \u001b[0mnp\u001b[0m\u001b[1;33m.\u001b[0m\u001b[0marray\u001b[0m\u001b[1;33m(\u001b[0m\u001b[1;33m[\u001b[0m\u001b[1;34m'ζ'\u001b[0m\u001b[1;33m,\u001b[0m\u001b[1;34m'(*/ω＼*)'\u001b[0m\u001b[1;33m]\u001b[0m\u001b[1;33m,\u001b[0m \u001b[0mdtype\u001b[0m\u001b[1;33m=\u001b[0m\u001b[1;34m'S4'\u001b[0m\u001b[1;33m)\u001b[0m\u001b[1;33m\u001b[0m\u001b[1;33m\u001b[0m\u001b[0m\n\u001b[0m",
      "\u001b[1;31mUnicodeEncodeError\u001b[0m: 'ascii' codec can't encode character '\\u03b6' in position 0: ordinal not in range(128)"
     ]
    }
   ],
   "source": [
    "#but we can't store unicode in S dtypye:\n",
    "np.array(['ζ','(*/ω＼*)'], dtype='S4')"
   ]
  },
  {
   "cell_type": "code",
   "execution_count": 154,
   "id": "b38e4feb",
   "metadata": {},
   "outputs": [
    {
     "data": {
      "text/plain": [
       "dtype('int64')"
      ]
     },
     "execution_count": 154,
     "metadata": {},
     "output_type": "execute_result"
    }
   ],
   "source": [
    "np.dtype('S') "
   ]
  },
  {
   "cell_type": "code",
   "execution_count": null,
   "id": "de5bacbd",
   "metadata": {},
   "outputs": [],
   "source": []
  },
  {
   "cell_type": "markdown",
   "id": "15817b1b",
   "metadata": {},
   "source": [
    "***Universal function***\n",
    "All functions provided by math module are valid for use in numpy module too.\n",
    "\n",
    "`np.sin(), np.cos(),.......,   np.sqrt()`"
   ]
  },
  {
   "cell_type": "markdown",
   "id": "971d68d6",
   "metadata": {},
   "source": [
    "#### Array Multiplication\n",
    "- `a*b` elementwise multiplication\n",
    "- `a@b` matrix multiplication of array"
   ]
  },
  {
   "cell_type": "code",
   "execution_count": null,
   "id": "4080e01f",
   "metadata": {},
   "outputs": [],
   "source": [
    "a = np.array(((3,4),(5,6)))\n",
    "b = np.array((1,2))\n",
    "c = a*b #element multipilcation\n",
    "d = a@b #matrix multiplication\n"
   ]
  },
  {
   "cell_type": "markdown",
   "id": "aab75247",
   "metadata": {},
   "source": [
    "for matrix multiplication: b is treated as column matrix\n",
    "for 2d matrix: largest tuple: matrix\n",
    "                smallest tuple: each row of matrix\n",
    "                \n",
    "so, (3,4),(5,6),(7,8) will act as matrix of 3 rows and 2 cols"
   ]
  },
  {
   "cell_type": "code",
   "execution_count": 193,
   "id": "16549d62",
   "metadata": {},
   "outputs": [
    {
     "data": {
      "text/plain": [
       "array([11, 17])"
      ]
     },
     "execution_count": 193,
     "metadata": {},
     "output_type": "execute_result"
    }
   ],
   "source": [
    "d"
   ]
  },
  {
   "cell_type": "code",
   "execution_count": 194,
   "id": "ae898b6c",
   "metadata": {},
   "outputs": [
    {
     "data": {
      "text/plain": [
       "(array([[3, 4],\n",
       "        [5, 6]]),\n",
       " array([1, 2]))"
      ]
     },
     "execution_count": 194,
     "metadata": {},
     "output_type": "execute_result"
    }
   ],
   "source": [
    "a,b\n"
   ]
  },
  {
   "cell_type": "markdown",
   "id": "30fb173c",
   "metadata": {},
   "source": [
    "#### nan(Not a number) and inf (Infinity)"
   ]
  },
  {
   "cell_type": "markdown",
   "id": "9a6af896",
   "metadata": {},
   "source": [
    "in order to check if the value is `nan` or `infinity`:\n",
    "numpy has built in methods:\n",
    "`np.isnan(value)` and `np.isinf(n)` or `np.isfinite(n)`\n"
   ]
  },
  {
   "cell_type": "code",
   "execution_count": 195,
   "id": "57886edf",
   "metadata": {},
   "outputs": [],
   "source": [
    "a = np.arange(4, dtype='f8')"
   ]
  },
  {
   "cell_type": "code",
   "execution_count": 196,
   "id": "13262380",
   "metadata": {},
   "outputs": [
    {
     "name": "stderr",
     "output_type": "stream",
     "text": [
      "C:\\Users\\paude\\AppData\\Local\\Temp/ipykernel_14192/1290597141.py:1: RuntimeWarning: divide by zero encountered in true_divide\n",
      "  a /=0\n",
      "C:\\Users\\paude\\AppData\\Local\\Temp/ipykernel_14192/1290597141.py:1: RuntimeWarning: invalid value encountered in true_divide\n",
      "  a /=0\n"
     ]
    }
   ],
   "source": [
    "a /=0"
   ]
  },
  {
   "cell_type": "code",
   "execution_count": 210,
   "id": "7b65063a",
   "metadata": {},
   "outputs": [
    {
     "data": {
      "text/plain": [
       "(False,\n",
       " False,\n",
       " array([ True, False, False, False]),\n",
       " array([False,  True,  True,  True]))"
      ]
     },
     "execution_count": 210,
     "metadata": {},
     "output_type": "execute_result"
    }
   ],
   "source": [
    "np.isnan(8), np.isnan(8.1), np.isnan(a), np.isinf(a)"
   ]
  },
  {
   "cell_type": "code",
   "execution_count": null,
   "id": "7996932e",
   "metadata": {},
   "outputs": [],
   "source": []
  },
  {
   "cell_type": "markdown",
   "id": "6e13b934",
   "metadata": {},
   "source": [
    "#### Magic square (Question)\n",
    "\n",
    "A magic square is an N × N grid of numbers in which the entries in\n",
    "each row, column and main diagonal sum to the same number (equal to $N(N^2 + 1)/2)$.\n",
    "A method for constructing a magic square for odd N is as follows:\n",
    "1. Start in the middle of the top row, and let n = 1.\n",
    "2. Insert n into the current grid position.\n",
    "3. If $n = N^2$ the grid is complete so stop. Otherwise, increment n.\n",
    "4. Move diagonally up and right, wrapping to the first column or last row if the move leads outside the grid. If this cell is already filled, move vertically down one space instead.\n",
    "5. Return to step 2.\n"
   ]
  },
  {
   "cell_type": "code",
   "execution_count": 224,
   "id": "53578ae2",
   "metadata": {},
   "outputs": [
    {
     "name": "stdout",
     "output_type": "stream",
     "text": [
      "[[8 1 6]\n",
      " [3 5 7]\n",
      " [4 9 2]]\n"
     ]
    }
   ],
   "source": [
    "# creating a magic square:\n",
    "N = 3\n",
    "magic_square = np.zeros((N,N), dtype='i8')\n",
    "\n",
    "n = 1\n",
    "i,j = 0, N//2\n",
    "while n<=N**2:\n",
    "    magic_square[i,j] = n\n",
    "    n += 1\n",
    "    new_i, new_j = (i-1)%N, (j+1)%N\n",
    "    if magic_square[new_i, new_j]:\n",
    "        i += 1\n",
    "    else:\n",
    "        i, j = new_i, new_j\n",
    "print(magic_square)\n",
    "    "
   ]
  },
  {
   "cell_type": "code",
   "execution_count": 214,
   "id": "f1f47c62",
   "metadata": {},
   "outputs": [
    {
     "data": {
      "text/plain": [
       "array([[0, 0, 0, 0, 0],\n",
       "       [0, 0, 0, 0, 0],\n",
       "       [0, 0, 0, 0, 0],\n",
       "       [0, 0, 0, 0, 0],\n",
       "       [0, 0, 0, 0, 0]], dtype=int64)"
      ]
     },
     "execution_count": 214,
     "metadata": {},
     "output_type": "execute_result"
    }
   ],
   "source": [
    "magic_square"
   ]
  },
  {
   "cell_type": "code",
   "execution_count": 227,
   "id": "eaa86411",
   "metadata": {},
   "outputs": [
    {
     "data": {
      "text/plain": [
       "3"
      ]
     },
     "execution_count": 227,
     "metadata": {},
     "output_type": "execute_result"
    }
   ],
   "source": [
    "3%5"
   ]
  },
  {
   "cell_type": "code",
   "execution_count": null,
   "id": "cb3443be",
   "metadata": {},
   "outputs": [],
   "source": []
  },
  {
   "cell_type": "markdown",
   "id": "1171ffab",
   "metadata": {},
   "source": [
    "### 1.4 Changing array shape\n",
    "\n",
    "#### Flatten and Ravel\n",
    "\n",
    "- `flatten`: turns multidimensional array to a single dimensional array, in row major order. but it is slower than ravel as it returns an independent copy \n",
    "- `ravel`: similar to flatten but is faster and it just references to elements of previous array"
   ]
  },
  {
   "cell_type": "code",
   "execution_count": 4,
   "id": "0025ae71",
   "metadata": {},
   "outputs": [],
   "source": [
    "a = np.array(((1,2,3),(3,4,5),(6, 7, 1)))\n",
    "b = a.flatten()\n",
    "c = a.ravel()"
   ]
  },
  {
   "cell_type": "code",
   "execution_count": 6,
   "id": "8e5c9553",
   "metadata": {},
   "outputs": [
    {
     "data": {
      "text/plain": [
       "array([[1, 2, 3],\n",
       "       [3, 4, 5],\n",
       "       [6, 7, 1]])"
      ]
     },
     "execution_count": 6,
     "metadata": {},
     "output_type": "execute_result"
    }
   ],
   "source": [
    "a"
   ]
  },
  {
   "cell_type": "code",
   "execution_count": 7,
   "id": "bfba3159",
   "metadata": {},
   "outputs": [
    {
     "data": {
      "text/plain": [
       "array([1, 2, 3, 3, 4, 5, 6, 7, 1])"
      ]
     },
     "execution_count": 7,
     "metadata": {},
     "output_type": "execute_result"
    }
   ],
   "source": [
    "b"
   ]
  },
  {
   "cell_type": "code",
   "execution_count": 8,
   "id": "fa3ce0e6",
   "metadata": {},
   "outputs": [
    {
     "data": {
      "text/plain": [
       "array([1, 2, 3, 3, 4, 5, 6, 7, 1])"
      ]
     },
     "execution_count": 8,
     "metadata": {},
     "output_type": "execute_result"
    }
   ],
   "source": [
    "c"
   ]
  },
  {
   "cell_type": "code",
   "execution_count": 12,
   "id": "219396b8",
   "metadata": {},
   "outputs": [
    {
     "data": {
      "text/plain": [
       "array([100,   2,   3,   3,   4,   5,   6,   7,   1])"
      ]
     },
     "execution_count": 12,
     "metadata": {},
     "output_type": "execute_result"
    }
   ],
   "source": [
    "#now we will change value of elements of b and c and see the difference:\n",
    "b[0] = 100\n",
    "b"
   ]
  },
  {
   "cell_type": "code",
   "execution_count": 14,
   "id": "979b23c4",
   "metadata": {},
   "outputs": [
    {
     "data": {
      "text/plain": [
       "array([[1, 2, 3],\n",
       "       [3, 4, 5],\n",
       "       [6, 7, 1]])"
      ]
     },
     "execution_count": 14,
     "metadata": {},
     "output_type": "execute_result"
    }
   ],
   "source": [
    "a #but changing value of b doesn't change value of b"
   ]
  },
  {
   "cell_type": "code",
   "execution_count": 18,
   "id": "75b0d2c0",
   "metadata": {},
   "outputs": [
    {
     "data": {
      "text/plain": [
       "(True, 1)"
      ]
     },
     "execution_count": 18,
     "metadata": {},
     "output_type": "execute_result"
    }
   ],
   "source": [
    "c[8] == a[2,2] , c[8]"
   ]
  },
  {
   "cell_type": "code",
   "execution_count": 19,
   "id": "ef653fe1",
   "metadata": {},
   "outputs": [],
   "source": [
    "#now changing value of c[8]\n",
    "c[8] = 101"
   ]
  },
  {
   "cell_type": "code",
   "execution_count": 20,
   "id": "9ece606d",
   "metadata": {},
   "outputs": [
    {
     "data": {
      "text/plain": [
       "array([  1,   2,   3,   3,   4,   5,   6,   7, 101])"
      ]
     },
     "execution_count": 20,
     "metadata": {},
     "output_type": "execute_result"
    }
   ],
   "source": [
    "# c will have value 1 changed to 101 at index 8:\n",
    "c"
   ]
  },
  {
   "cell_type": "code",
   "execution_count": 22,
   "id": "1ca4432c",
   "metadata": {},
   "outputs": [
    {
     "data": {
      "text/plain": [
       "array([[  1,   2,   3],\n",
       "       [  3,   4,   5],\n",
       "       [  6,   7, 101]])"
      ]
     },
     "execution_count": 22,
     "metadata": {},
     "output_type": "execute_result"
    }
   ],
   "source": [
    "#but since c = a.ravel() has referenced to elements of a, changing c must change a too:\n",
    "a\n",
    "#element 2,2th element must be now 101"
   ]
  },
  {
   "cell_type": "code",
   "execution_count": null,
   "id": "ccebff24",
   "metadata": {},
   "outputs": [],
   "source": []
  },
  {
   "cell_type": "markdown",
   "id": "df7c61b1",
   "metadata": {},
   "source": [
    "#### resize and reshape\n",
    "- `arr.resize((m,n))` totally makes change in original array and don't return any other\n",
    "- `arr.reshape((m,n))` returns a new array of given shape from original array but original array is unchanged\n"
   ]
  },
  {
   "cell_type": "code",
   "execution_count": 37,
   "id": "a263b964",
   "metadata": {},
   "outputs": [
    {
     "data": {
      "text/plain": [
       "array([1, 2, 3, 3, 4, 5, 6, 7, 1])"
      ]
     },
     "execution_count": 37,
     "metadata": {},
     "output_type": "execute_result"
    }
   ],
   "source": [
    "a = np.array((1,2,3,3,4,5,6,7,1))\n",
    "a"
   ]
  },
  {
   "cell_type": "code",
   "execution_count": 41,
   "id": "26039c56",
   "metadata": {},
   "outputs": [
    {
     "data": {
      "text/plain": [
       "array([[1, 2, 3],\n",
       "       [3, 4, 5],\n",
       "       [6, 7, 1]])"
      ]
     },
     "execution_count": 41,
     "metadata": {},
     "output_type": "execute_result"
    }
   ],
   "source": [
    "a.reshape((3,3)) #it returned a new array of new 3*3 shape"
   ]
  },
  {
   "cell_type": "code",
   "execution_count": 42,
   "id": "23e2a34d",
   "metadata": {},
   "outputs": [
    {
     "data": {
      "text/plain": [
       "array([1, 2, 3, 3, 4, 5, 6, 7, 1])"
      ]
     },
     "execution_count": 42,
     "metadata": {},
     "output_type": "execute_result"
    }
   ],
   "source": [
    "a #but original array is unchanged"
   ]
  },
  {
   "cell_type": "code",
   "execution_count": 46,
   "id": "cc0c4c27",
   "metadata": {},
   "outputs": [],
   "source": [
    "a.resize((3,3)) #running this method didn't returned any array"
   ]
  },
  {
   "cell_type": "code",
   "execution_count": 48,
   "id": "2d0d5451",
   "metadata": {},
   "outputs": [
    {
     "data": {
      "text/plain": [
       "array([[1, 2, 3],\n",
       "       [3, 4, 5],\n",
       "       [6, 7, 1]])"
      ]
     },
     "execution_count": 48,
     "metadata": {},
     "output_type": "execute_result"
    }
   ],
   "source": [
    "a #now the original array is changed"
   ]
  },
  {
   "cell_type": "markdown",
   "id": "c8dff63f",
   "metadata": {},
   "source": [
    "#### transposing an array\n",
    "The method transpose returns a view of an array with the axes transposed. So, original array is not modified"
   ]
  },
  {
   "cell_type": "code",
   "execution_count": 49,
   "id": "8431edd2",
   "metadata": {},
   "outputs": [],
   "source": [
    "arr = np.linspace(1,10,12).reshape(3,4)"
   ]
  },
  {
   "cell_type": "code",
   "execution_count": 50,
   "id": "f33eb078",
   "metadata": {},
   "outputs": [
    {
     "data": {
      "text/plain": [
       "array([[ 1.        ,  1.81818182,  2.63636364,  3.45454545],\n",
       "       [ 4.27272727,  5.09090909,  5.90909091,  6.72727273],\n",
       "       [ 7.54545455,  8.36363636,  9.18181818, 10.        ]])"
      ]
     },
     "execution_count": 50,
     "metadata": {},
     "output_type": "execute_result"
    }
   ],
   "source": [
    "arr"
   ]
  },
  {
   "cell_type": "code",
   "execution_count": 57,
   "id": "a69e2c1c",
   "metadata": {},
   "outputs": [
    {
     "data": {
      "text/plain": [
       "array([[ 1.        ,  4.27272727,  7.54545455],\n",
       "       [ 1.81818182,  5.09090909,  8.36363636],\n",
       "       [ 2.63636364,  5.90909091,  9.18181818],\n",
       "       [ 3.45454545,  6.72727273, 10.        ]])"
      ]
     },
     "execution_count": 57,
     "metadata": {},
     "output_type": "execute_result"
    }
   ],
   "source": [
    "arr.transpose() #either transpose method can be called"
   ]
  },
  {
   "cell_type": "code",
   "execution_count": 53,
   "id": "de58214c",
   "metadata": {},
   "outputs": [
    {
     "data": {
      "text/plain": [
       "array([[ 1.        ,  1.81818182,  2.63636364,  3.45454545],\n",
       "       [ 4.27272727,  5.09090909,  5.90909091,  6.72727273],\n",
       "       [ 7.54545455,  8.36363636,  9.18181818, 10.        ]])"
      ]
     },
     "execution_count": 53,
     "metadata": {},
     "output_type": "execute_result"
    }
   ],
   "source": [
    "arr #but original array is not changed"
   ]
  },
  {
   "cell_type": "code",
   "execution_count": 58,
   "id": "3fd492a6",
   "metadata": {},
   "outputs": [
    {
     "data": {
      "text/plain": [
       "array([[ 1.        ,  4.27272727,  7.54545455],\n",
       "       [ 1.81818182,  5.09090909,  8.36363636],\n",
       "       [ 2.63636364,  5.90909091,  9.18181818],\n",
       "       [ 3.45454545,  6.72727273, 10.        ]])"
      ]
     },
     "execution_count": 58,
     "metadata": {},
     "output_type": "execute_result"
    }
   ],
   "source": [
    "arr.T #transpose is also attribute"
   ]
  },
  {
   "cell_type": "code",
   "execution_count": 59,
   "id": "25ff0df5",
   "metadata": {},
   "outputs": [
    {
     "data": {
      "text/plain": [
       "array([[ 1.        ,  1.81818182,  2.63636364,  3.45454545],\n",
       "       [ 4.27272727,  5.09090909,  5.90909091,  6.72727273],\n",
       "       [ 7.54545455,  8.36363636,  9.18181818, 10.        ]])"
      ]
     },
     "execution_count": 59,
     "metadata": {},
     "output_type": "execute_result"
    }
   ],
   "source": [
    "arr"
   ]
  },
  {
   "cell_type": "code",
   "execution_count": 62,
   "id": "d1af028d",
   "metadata": {},
   "outputs": [
    {
     "data": {
      "text/plain": [
       "array([[ 1.        ,  4.27272727,  7.54545455],\n",
       "       [ 1.81818182,  5.09090909,  8.36363636],\n",
       "       [ 2.63636364,  5.90909091,  9.18181818],\n",
       "       [ 3.45454545,  6.72727273, 10.        ]])"
      ]
     },
     "execution_count": 62,
     "metadata": {},
     "output_type": "execute_result"
    }
   ],
   "source": [
    "np.transpose(arr) #another method"
   ]
  },
  {
   "cell_type": "code",
   "execution_count": 63,
   "id": "fc4e6a96",
   "metadata": {},
   "outputs": [
    {
     "data": {
      "text/plain": [
       "array([[ 1.        ,  1.81818182,  2.63636364,  3.45454545],\n",
       "       [ 4.27272727,  5.09090909,  5.90909091,  6.72727273],\n",
       "       [ 7.54545455,  8.36363636,  9.18181818, 10.        ]])"
      ]
     },
     "execution_count": 63,
     "metadata": {},
     "output_type": "execute_result"
    }
   ],
   "source": [
    "arr #so, transpose operation don't change original matrix"
   ]
  },
  {
   "cell_type": "code",
   "execution_count": null,
   "id": "960e9be9",
   "metadata": {},
   "outputs": [],
   "source": []
  },
  {
   "cell_type": "markdown",
   "id": "702384f6",
   "metadata": {},
   "source": [
    "#### Merging  Arrays\n",
    "- `np.vstack()` requires same length: stack given arrays into separate rows\n",
    "- `np.hstack()` any length of array: into a single row in specified order\n",
    "- `np.dstack()` requires same length:  depthwise (along a third axis)."
   ]
  },
  {
   "cell_type": "code",
   "execution_count": 93,
   "id": "f88e3c77",
   "metadata": {},
   "outputs": [],
   "source": [
    "a = np.linspace(0,12,4)\n",
    "b = np.linspace(3,9,4)\n",
    "c = np.linspace(5,50,4)\n",
    "d = np.linspace(5,50,10)\n",
    "\n",
    "vr = np.vstack((a,b,c)) #every array must be of same length\n",
    "hr = np.hstack((a,b,d)) #may be of any length\n",
    "ds = np.dstack((a,b,c)) #must be of same length"
   ]
  },
  {
   "cell_type": "code",
   "execution_count": 87,
   "id": "19518327",
   "metadata": {},
   "outputs": [
    {
     "data": {
      "text/plain": [
       "array([[ 0.,  4.,  8., 12.],\n",
       "       [ 3.,  5.,  7.,  9.],\n",
       "       [ 5., 20., 35., 50.]])"
      ]
     },
     "execution_count": 87,
     "metadata": {},
     "output_type": "execute_result"
    }
   ],
   "source": [
    "vr"
   ]
  },
  {
   "cell_type": "code",
   "execution_count": 91,
   "id": "c894dd75",
   "metadata": {},
   "outputs": [
    {
     "data": {
      "text/plain": [
       "array([ 0.,  4.,  8., 12.,  3.,  5.,  7.,  9.,  5., 10., 15., 20., 25.,\n",
       "       30., 35., 40., 45., 50.])"
      ]
     },
     "execution_count": 91,
     "metadata": {},
     "output_type": "execute_result"
    }
   ],
   "source": [
    "hr"
   ]
  },
  {
   "cell_type": "code",
   "execution_count": 95,
   "id": "452354fe",
   "metadata": {},
   "outputs": [
    {
     "data": {
      "text/plain": [
       "array([[[ 0.,  3.,  5.],\n",
       "        [ 4.,  5., 20.],\n",
       "        [ 8.,  7., 35.],\n",
       "        [12.,  9., 50.]]])"
      ]
     },
     "execution_count": 95,
     "metadata": {},
     "output_type": "execute_result"
    }
   ],
   "source": [
    "ds"
   ]
  },
  {
   "cell_type": "code",
   "execution_count": 104,
   "id": "8b2c2623",
   "metadata": {},
   "outputs": [
    {
     "data": {
      "text/plain": [
       "20.0"
      ]
     },
     "execution_count": 104,
     "metadata": {},
     "output_type": "execute_result"
    }
   ],
   "source": [
    "#to access 20 we must use 3 indexes\n",
    "ds[0,1,2]"
   ]
  },
  {
   "cell_type": "code",
   "execution_count": null,
   "id": "dc642467",
   "metadata": {},
   "outputs": [],
   "source": []
  },
  {
   "cell_type": "markdown",
   "id": "07a253d2",
   "metadata": {},
   "source": [
    "#### Splitting arrays\n",
    "- `np.hsplit(arg)` works for any dimensional array\n",
    "- `np.vsplit(arg)` requires 2 or higher dimensional array\n",
    "- `np.dsplit(arg)` \n",
    "\n",
    "*requires argument telling how to split the array*"
   ]
  },
  {
   "cell_type": "code",
   "execution_count": 129,
   "id": "07349ad6",
   "metadata": {},
   "outputs": [
    {
     "data": {
      "text/plain": [
       "(array([10, 20, 30, 40, 50, 60, 70, 80, 90]),\n",
       " array([[10, 20, 30],\n",
       "        [40, 50, 60],\n",
       "        [70, 80, 90]]))"
      ]
     },
     "execution_count": 129,
     "metadata": {},
     "output_type": "execute_result"
    }
   ],
   "source": [
    "a = np.arange(10,100,10)\n",
    "b = a.reshape(3,3)\n",
    "a,b"
   ]
  },
  {
   "cell_type": "code",
   "execution_count": null,
   "id": "8d732cf2",
   "metadata": {},
   "outputs": [],
   "source": []
  },
  {
   "cell_type": "code",
   "execution_count": 131,
   "id": "e545ad83",
   "metadata": {},
   "outputs": [
    {
     "data": {
      "text/plain": [
       "[array([[10],\n",
       "        [40],\n",
       "        [70]]),\n",
       " array([[20],\n",
       "        [50],\n",
       "        [80]]),\n",
       " array([[30],\n",
       "        [60],\n",
       "        [90]])]"
      ]
     },
     "execution_count": 131,
     "metadata": {},
     "output_type": "execute_result"
    }
   ],
   "source": [
    "np.hsplit(b, 3)"
   ]
  },
  {
   "cell_type": "code",
   "execution_count": 124,
   "id": "f8e4ab07",
   "metadata": {},
   "outputs": [
    {
     "data": {
      "text/plain": [
       "[array([10, 20, 30]), array([40, 50, 60]), array([70, 80, 90])]"
      ]
     },
     "execution_count": 124,
     "metadata": {},
     "output_type": "execute_result"
    }
   ],
   "source": [
    "np.hsplit(a,3) "
   ]
  },
  {
   "cell_type": "code",
   "execution_count": 119,
   "id": "0bdcf0f4",
   "metadata": {},
   "outputs": [
    {
     "ename": "ValueError",
     "evalue": "vsplit only works on arrays of 2 or more dimensions",
     "output_type": "error",
     "traceback": [
      "\u001b[1;31m---------------------------------------------------------------------------\u001b[0m",
      "\u001b[1;31mValueError\u001b[0m                                Traceback (most recent call last)",
      "\u001b[1;32m~\\AppData\\Local\\Temp/ipykernel_13204/1032200621.py\u001b[0m in \u001b[0;36m<module>\u001b[1;34m\u001b[0m\n\u001b[1;32m----> 1\u001b[1;33m \u001b[0mnp\u001b[0m\u001b[1;33m.\u001b[0m\u001b[0mvsplit\u001b[0m\u001b[1;33m(\u001b[0m\u001b[0ma\u001b[0m\u001b[1;33m,\u001b[0m\u001b[1;36m3\u001b[0m\u001b[1;33m)\u001b[0m \u001b[1;31m#it will give array\u001b[0m\u001b[1;33m\u001b[0m\u001b[1;33m\u001b[0m\u001b[0m\n\u001b[0m",
      "\u001b[1;32m<__array_function__ internals>\u001b[0m in \u001b[0;36mvsplit\u001b[1;34m(*args, **kwargs)\u001b[0m\n",
      "\u001b[1;32mc:\\users\\paude\\appdata\\local\\programs\\python\\python38\\lib\\site-packages\\numpy\\lib\\shape_base.py\u001b[0m in \u001b[0;36mvsplit\u001b[1;34m(ary, indices_or_sections)\u001b[0m\n\u001b[0;32m    988\u001b[0m     \"\"\"\n\u001b[0;32m    989\u001b[0m     \u001b[1;32mif\u001b[0m \u001b[0m_nx\u001b[0m\u001b[1;33m.\u001b[0m\u001b[0mndim\u001b[0m\u001b[1;33m(\u001b[0m\u001b[0mary\u001b[0m\u001b[1;33m)\u001b[0m \u001b[1;33m<\u001b[0m \u001b[1;36m2\u001b[0m\u001b[1;33m:\u001b[0m\u001b[1;33m\u001b[0m\u001b[1;33m\u001b[0m\u001b[0m\n\u001b[1;32m--> 990\u001b[1;33m         \u001b[1;32mraise\u001b[0m \u001b[0mValueError\u001b[0m\u001b[1;33m(\u001b[0m\u001b[1;34m'vsplit only works on arrays of 2 or more dimensions'\u001b[0m\u001b[1;33m)\u001b[0m\u001b[1;33m\u001b[0m\u001b[1;33m\u001b[0m\u001b[0m\n\u001b[0m\u001b[0;32m    991\u001b[0m     \u001b[1;32mreturn\u001b[0m \u001b[0msplit\u001b[0m\u001b[1;33m(\u001b[0m\u001b[0mary\u001b[0m\u001b[1;33m,\u001b[0m \u001b[0mindices_or_sections\u001b[0m\u001b[1;33m,\u001b[0m \u001b[1;36m0\u001b[0m\u001b[1;33m)\u001b[0m\u001b[1;33m\u001b[0m\u001b[1;33m\u001b[0m\u001b[0m\n\u001b[0;32m    992\u001b[0m \u001b[1;33m\u001b[0m\u001b[0m\n",
      "\u001b[1;31mValueError\u001b[0m: vsplit only works on arrays of 2 or more dimensions"
     ]
    }
   ],
   "source": [
    "np.vsplit(a,3) #it will give array"
   ]
  },
  {
   "cell_type": "markdown",
   "id": "914ce822",
   "metadata": {},
   "source": [
    "#### indexing and slicing an array\n",
    "- they only create a view of the original array, meaning that any assignment or change to that indexed part will cause change in original array too"
   ]
  },
  {
   "cell_type": "code",
   "execution_count": 10,
   "id": "21c8b491",
   "metadata": {},
   "outputs": [
    {
     "data": {
      "text/plain": [
       "array([1., 2., 3., 4., 5., 6., 7.])"
      ]
     },
     "execution_count": 10,
     "metadata": {},
     "output_type": "execute_result"
    }
   ],
   "source": [
    "a = np.linspace(1,7,7)\n",
    "a"
   ]
  },
  {
   "cell_type": "code",
   "execution_count": 14,
   "id": "e9fa6e56",
   "metadata": {},
   "outputs": [
    {
     "data": {
      "text/plain": [
       "array([2., 4., 6.])"
      ]
     },
     "execution_count": 14,
     "metadata": {},
     "output_type": "execute_result"
    }
   ],
   "source": [
    "a[1:6:2] #start(including that index):stop(excluding that index):step"
   ]
  },
  {
   "cell_type": "code",
   "execution_count": 18,
   "id": "78b6bbf4",
   "metadata": {},
   "outputs": [
    {
     "data": {
      "text/plain": [
       "array([7., 6., 5., 4., 3., 2., 1.])"
      ]
     },
     "execution_count": 18,
     "metadata": {},
     "output_type": "execute_result"
    }
   ],
   "source": [
    "a[::-1]"
   ]
  },
  {
   "cell_type": "code",
   "execution_count": 20,
   "id": "dc2b9513",
   "metadata": {},
   "outputs": [
    {
     "data": {
      "text/plain": [
       "array([7., 5., 3., 1.])"
      ]
     },
     "execution_count": 20,
     "metadata": {},
     "output_type": "execute_result"
    }
   ],
   "source": [
    "a[6::-2]"
   ]
  },
  {
   "cell_type": "code",
   "execution_count": 46,
   "id": "8eb8ac34",
   "metadata": {},
   "outputs": [
    {
     "data": {
      "text/plain": [
       "array([[ 1.,  2.,  3.,  4.],\n",
       "       [ 5.,  6.,  7.,  8.],\n",
       "       [ 9., 10., 11., 12.]])"
      ]
     },
     "execution_count": 46,
     "metadata": {},
     "output_type": "execute_result"
    }
   ],
   "source": [
    "# now for multidimensional arrays:\n",
    "\n",
    "arr = np.linspace(1,12,12).reshape(3,4)\n",
    "arr"
   ]
  },
  {
   "cell_type": "code",
   "execution_count": 29,
   "id": "ad730bb3",
   "metadata": {},
   "outputs": [
    {
     "data": {
      "text/plain": [
       "array([[ 1.,  2.,  3.,  4.],\n",
       "       [ 5.,  6.,  7.,  8.],\n",
       "       [ 9., 10., 11., 12.]])"
      ]
     },
     "execution_count": 29,
     "metadata": {},
     "output_type": "execute_result"
    }
   ],
   "source": [
    "arr[:,:] #: indicates select all elements, row:row elements"
   ]
  },
  {
   "cell_type": "code",
   "execution_count": 31,
   "id": "396fda12",
   "metadata": {},
   "outputs": [
    {
     "data": {
      "text/plain": [
       "array([5., 6., 7., 8.])"
      ]
     },
     "execution_count": 31,
     "metadata": {},
     "output_type": "execute_result"
    }
   ],
   "source": [
    "arr[1,:] #2nd row all elements"
   ]
  },
  {
   "cell_type": "code",
   "execution_count": 34,
   "id": "75f5685d",
   "metadata": {},
   "outputs": [
    {
     "data": {
      "text/plain": [
       "array([[ 2.,  3.],\n",
       "       [ 6.,  7.],\n",
       "       [10., 11.]])"
      ]
     },
     "execution_count": 34,
     "metadata": {},
     "output_type": "execute_result"
    }
   ],
   "source": [
    "arr[:, 1:3] #all rows, but column form 2nd to and 3rd"
   ]
  },
  {
   "cell_type": "code",
   "execution_count": 47,
   "id": "96fa9636",
   "metadata": {},
   "outputs": [],
   "source": [
    "arr[::2, 1::2] = 0"
   ]
  },
  {
   "cell_type": "code",
   "execution_count": 48,
   "id": "1688bee0",
   "metadata": {},
   "outputs": [
    {
     "data": {
      "text/plain": [
       "array([[ 1.,  0.,  3.,  0.],\n",
       "       [ 5.,  6.,  7.,  8.],\n",
       "       [ 9.,  0., 11.,  0.]])"
      ]
     },
     "execution_count": 48,
     "metadata": {},
     "output_type": "execute_result"
    }
   ],
   "source": [
    "arr"
   ]
  },
  {
   "cell_type": "markdown",
   "id": "035c9781",
   "metadata": {},
   "source": [
    "#### Advanced indexing\n",
    "- they create copy from original array, so assigning new value to indexed or sliced part will not change original array"
   ]
  },
  {
   "cell_type": "code",
   "execution_count": 58,
   "id": "32b5efaa",
   "metadata": {},
   "outputs": [
    {
     "data": {
      "text/plain": [
       "array([1., 2., 3., 4., 5., 6.])"
      ]
     },
     "execution_count": 58,
     "metadata": {},
     "output_type": "execute_result"
    }
   ],
   "source": [
    "a = np.linspace(1,6,6)\n",
    "a"
   ]
  },
  {
   "cell_type": "code",
   "execution_count": 56,
   "id": "a35d337a",
   "metadata": {},
   "outputs": [
    {
     "data": {
      "text/plain": [
       "array([2., 5., 6.])"
      ]
     },
     "execution_count": 56,
     "metadata": {},
     "output_type": "execute_result"
    }
   ],
   "source": [
    "ia = [1,4,5]\n",
    "a[ia]"
   ]
  },
  {
   "cell_type": "code",
   "execution_count": 62,
   "id": "bf34f5c5",
   "metadata": {},
   "outputs": [
    {
     "data": {
      "text/plain": [
       "array([[2., 3.],\n",
       "       [4., 5.],\n",
       "       [1., 6.]])"
      ]
     },
     "execution_count": 62,
     "metadata": {},
     "output_type": "execute_result"
    }
   ],
   "source": [
    "# now we can use this method to create new array from specified indexes:\n",
    "indexes = np.array(((1,2),(3,4),(0,5)))\n",
    "\n",
    "#we can use similar technique to create a new 3*2 array from a using advanced indexing:\n",
    "new_ = a[indexes]\n",
    "new_"
   ]
  },
  {
   "cell_type": "markdown",
   "id": "135c1044",
   "metadata": {},
   "source": [
    "#### Adding an axis\n",
    "- To add an axis (i.e. dimension) to an array, insert np.newaxis in the desired position:\n",
    "- Just returns a copy, not view to array. So original array is unmodified"
   ]
  },
  {
   "cell_type": "code",
   "execution_count": 70,
   "id": "5a4918d8",
   "metadata": {},
   "outputs": [
    {
     "data": {
      "text/plain": [
       "array([[1., 2.],\n",
       "       [3., 4.]])"
      ]
     },
     "execution_count": 70,
     "metadata": {},
     "output_type": "execute_result"
    }
   ],
   "source": [
    "arr = np.linspace(1,4,4).reshape(2,2)\n",
    "arr"
   ]
  },
  {
   "cell_type": "code",
   "execution_count": 72,
   "id": "f0a60a7d",
   "metadata": {},
   "outputs": [],
   "source": [
    "b = arr[:, np.newaxis, :]"
   ]
  },
  {
   "cell_type": "code",
   "execution_count": 74,
   "id": "acb74b39",
   "metadata": {},
   "outputs": [
    {
     "data": {
      "text/plain": [
       "(array([[1., 2.],\n",
       "        [3., 4.]]),\n",
       " array([[[1., 2.]],\n",
       " \n",
       "        [[3., 4.]]]))"
      ]
     },
     "execution_count": 74,
     "metadata": {},
     "output_type": "execute_result"
    }
   ],
   "source": [
    "arr,b\n"
   ]
  },
  {
   "cell_type": "code",
   "execution_count": 78,
   "id": "cca10871",
   "metadata": {},
   "outputs": [
    {
     "data": {
      "text/plain": [
       "((2, 2), (2, 1, 2))"
      ]
     },
     "execution_count": 78,
     "metadata": {},
     "output_type": "execute_result"
    }
   ],
   "source": [
    "arr.shape, b.shape"
   ]
  },
  {
   "cell_type": "code",
   "execution_count": 96,
   "id": "35c3e6c2",
   "metadata": {},
   "outputs": [
    {
     "data": {
      "text/plain": [
       "array([[[1., 2.],\n",
       "        [3., 4.]]])"
      ]
     },
     "execution_count": 96,
     "metadata": {},
     "output_type": "execute_result"
    }
   ],
   "source": [
    "c = arr[np.newaxis, :]\n",
    "c"
   ]
  },
  {
   "cell_type": "code",
   "execution_count": 97,
   "id": "5f020ff4",
   "metadata": {},
   "outputs": [
    {
     "data": {
      "text/plain": [
       "(1, 2, 2)"
      ]
     },
     "execution_count": 97,
     "metadata": {},
     "output_type": "execute_result"
    }
   ],
   "source": [
    "c.shape"
   ]
  },
  {
   "cell_type": "code",
   "execution_count": null,
   "id": "7e81ab3d",
   "metadata": {},
   "outputs": [],
   "source": []
  },
  {
   "cell_type": "markdown",
   "id": "3b8bf7d5",
   "metadata": {},
   "source": [
    "#### Program to validate the sudoku square:"
   ]
  },
  {
   "cell_type": "code",
   "execution_count": 19,
   "id": "866a3ff6",
   "metadata": {},
   "outputs": [
    {
     "name": "stdout",
     "output_type": "stream",
     "text": [
      "grid valid\n"
     ]
    }
   ],
   "source": [
    "#it is 9*9 square:\n",
    "#in each row and column number 1-9 must be only once\n",
    "#each small 3*3 square must also contain all numbers only once\n",
    "\n",
    "def verify_sudoku(gird):\n",
    "    #grid is numpy array of 9 rows and 9 columns:\n",
    "    _9sq = list(range(0,10,3))\n",
    "    \n",
    "    unique_rc = False\n",
    "    verify = True\n",
    "    for n in range(9):\n",
    "        if 0 not in grid[n, :] and len(set(grid[n,:])) == 9:\n",
    "            if 0 not in grid[:, n] and len(set(grid[:,n])) == 9:\n",
    "                unique_rc = True\n",
    "                \n",
    "    if unique_rc :\n",
    "        for i in range(0,7,3):\n",
    "            for j in range(0,7,3):\n",
    "                if len(set(grid[i:i+3, j:j+3].ravel())) == 9:\n",
    "                    pass\n",
    "                else: \n",
    "                    verify = False\n",
    "    return verify\n",
    "                \n",
    "sudoku = \"\"\" 145327698\n",
    "839654127\n",
    "672918543\n",
    "496185372\n",
    "218473956\n",
    "753296481\n",
    "367542819\n",
    "984761235\n",
    "521839764 \"\"\"\n",
    "# Turn the provided string , sudoku , into an integer array.\n",
    "grid = np.array ([[int(i) for i in line] for line in sudoku.split ()])\n",
    "\n",
    "if verify_sudoku(grid):\n",
    "    print('grid valid')\n",
    "else:\n",
    "    print('invalid grid')\n"
   ]
  },
  {
   "cell_type": "markdown",
   "id": "ef607bdf",
   "metadata": {},
   "source": [
    "### Meshes\n",
    "To evaluate a multidimensional function on a grid of points, a mesh is useful The\n",
    "function np.meshgrid is passed a series of N one-dimensional arrays representing coordinates along each dimension and returns a set of N-dimensional arrays comprising a \n",
    "mesh of coordinates at which the function can be evaluated. For example, in the two-dimensional case:"
   ]
  },
  {
   "cell_type": "code",
   "execution_count": 53,
   "id": "20bf3661",
   "metadata": {},
   "outputs": [],
   "source": [
    "a = np.linspace(0,10,11)\n",
    "b = np.linspace(0,10,11)\n",
    "\n",
    "xv, yv = np.meshgrid(a,b)"
   ]
  },
  {
   "cell_type": "code",
   "execution_count": 54,
   "id": "7ad0cca1",
   "metadata": {},
   "outputs": [
    {
     "data": {
      "text/plain": [
       "array([[ 0.,  1.,  2.,  3.,  4.,  5.,  6.,  7.,  8.,  9., 10.],\n",
       "       [ 0.,  1.,  2.,  3.,  4.,  5.,  6.,  7.,  8.,  9., 10.],\n",
       "       [ 0.,  1.,  2.,  3.,  4.,  5.,  6.,  7.,  8.,  9., 10.],\n",
       "       [ 0.,  1.,  2.,  3.,  4.,  5.,  6.,  7.,  8.,  9., 10.],\n",
       "       [ 0.,  1.,  2.,  3.,  4.,  5.,  6.,  7.,  8.,  9., 10.],\n",
       "       [ 0.,  1.,  2.,  3.,  4.,  5.,  6.,  7.,  8.,  9., 10.],\n",
       "       [ 0.,  1.,  2.,  3.,  4.,  5.,  6.,  7.,  8.,  9., 10.],\n",
       "       [ 0.,  1.,  2.,  3.,  4.,  5.,  6.,  7.,  8.,  9., 10.],\n",
       "       [ 0.,  1.,  2.,  3.,  4.,  5.,  6.,  7.,  8.,  9., 10.],\n",
       "       [ 0.,  1.,  2.,  3.,  4.,  5.,  6.,  7.,  8.,  9., 10.],\n",
       "       [ 0.,  1.,  2.,  3.,  4.,  5.,  6.,  7.,  8.,  9., 10.]])"
      ]
     },
     "execution_count": 54,
     "metadata": {},
     "output_type": "execute_result"
    }
   ],
   "source": [
    "xv #this is like x-axis at several level of y-axis:\n",
    "# value onnly change in row-wise and don't change in column wise"
   ]
  },
  {
   "cell_type": "code",
   "execution_count": 55,
   "id": "b6be9b60",
   "metadata": {},
   "outputs": [
    {
     "data": {
      "text/plain": [
       "array([[ 0.,  0.,  0.,  0.,  0.,  0.,  0.,  0.,  0.,  0.,  0.],\n",
       "       [ 1.,  1.,  1.,  1.,  1.,  1.,  1.,  1.,  1.,  1.,  1.],\n",
       "       [ 2.,  2.,  2.,  2.,  2.,  2.,  2.,  2.,  2.,  2.,  2.],\n",
       "       [ 3.,  3.,  3.,  3.,  3.,  3.,  3.,  3.,  3.,  3.,  3.],\n",
       "       [ 4.,  4.,  4.,  4.,  4.,  4.,  4.,  4.,  4.,  4.,  4.],\n",
       "       [ 5.,  5.,  5.,  5.,  5.,  5.,  5.,  5.,  5.,  5.,  5.],\n",
       "       [ 6.,  6.,  6.,  6.,  6.,  6.,  6.,  6.,  6.,  6.,  6.],\n",
       "       [ 7.,  7.,  7.,  7.,  7.,  7.,  7.,  7.,  7.,  7.,  7.],\n",
       "       [ 8.,  8.,  8.,  8.,  8.,  8.,  8.,  8.,  8.,  8.,  8.],\n",
       "       [ 9.,  9.,  9.,  9.,  9.,  9.,  9.,  9.,  9.,  9.,  9.],\n",
       "       [10., 10., 10., 10., 10., 10., 10., 10., 10., 10., 10.]])"
      ]
     },
     "execution_count": 55,
     "metadata": {},
     "output_type": "execute_result"
    }
   ],
   "source": [
    "yv\n",
    "#this is like y-axis at several level of x-axis:\n",
    "# value onnly change in column-wise and don't change in row wise"
   ]
  },
  {
   "cell_type": "code",
   "execution_count": 57,
   "id": "448d2c7c",
   "metadata": {},
   "outputs": [
    {
     "data": {
      "text/plain": [
       "<matplotlib.collections.QuadMesh at 0x27718360520>"
      ]
     },
     "execution_count": 57,
     "metadata": {},
     "output_type": "execute_result"
    },
    {
     "data": {
      "image/png": "[encoded data removed]",
      "text/plain": [
       "<Figure size 432x288 with 1 Axes>"
      ]
     },
     "metadata": {
      "needs_background": "light"
     },
     "output_type": "display_data"
    }
   ],
   "source": [
    "plt.pcolormesh(xv,yv,xv**2+yv**2)"
   ]
  },
  {
   "cell_type": "markdown",
   "id": "2c944c62",
   "metadata": {},
   "source": [
    "### Broadcasting\n",
    "- Broadcasting describes the rules that NumPy uses to carry out such operations when the arrays have different shapes."
   ]
  },
  {
   "cell_type": "code",
   "execution_count": 10,
   "id": "8dfbee9e",
   "metadata": {},
   "outputs": [],
   "source": [
    "a = np.array([1,2,3])"
   ]
  },
  {
   "cell_type": "code",
   "execution_count": 12,
   "id": "8046112b",
   "metadata": {},
   "outputs": [
    {
     "data": {
      "text/plain": [
       "array([3, 6, 9])"
      ]
     },
     "execution_count": 12,
     "metadata": {},
     "output_type": "execute_result"
    }
   ],
   "source": [
    "a*3 #3 gets broad casted to another array of (3,3,3)"
   ]
  },
  {
   "cell_type": "code",
   "execution_count": 13,
   "id": "a6cba137",
   "metadata": {},
   "outputs": [],
   "source": [
    "arr = np.arange(1,16).reshape(5,3)"
   ]
  },
  {
   "cell_type": "code",
   "execution_count": 17,
   "id": "6ff45eff",
   "metadata": {},
   "outputs": [
    {
     "data": {
      "text/plain": [
       "array([[ 1,  2,  3],\n",
       "       [ 4,  5,  6],\n",
       "       [ 7,  8,  9],\n",
       "       [10, 11, 12],\n",
       "       [13, 14, 15]])"
      ]
     },
     "execution_count": 17,
     "metadata": {},
     "output_type": "execute_result"
    }
   ],
   "source": [
    "arr"
   ]
  },
  {
   "cell_type": "code",
   "execution_count": 18,
   "id": "6363b4e2",
   "metadata": {},
   "outputs": [
    {
     "data": {
      "text/plain": [
       "array([[ 1,  4,  9],\n",
       "       [ 4, 10, 18],\n",
       "       [ 7, 16, 27],\n",
       "       [10, 22, 36],\n",
       "       [13, 28, 45]])"
      ]
     },
     "execution_count": 18,
     "metadata": {},
     "output_type": "execute_result"
    }
   ],
   "source": [
    "#now we can broadcast a into an array of 5*3 too:\n",
    "\n",
    "a * arr"
   ]
  },
  {
   "cell_type": "markdown",
   "id": "dad7797c",
   "metadata": {},
   "source": [
    "#### Minima and Maxima"
   ]
  },
  {
   "cell_type": "code",
   "execution_count": 23,
   "id": "b59c8f86",
   "metadata": {},
   "outputs": [],
   "source": [
    "arr = np.array([random.randint(-10,10) for n in range(36)]).reshape(6,6)"
   ]
  },
  {
   "cell_type": "code",
   "execution_count": 24,
   "id": "eae3b31d",
   "metadata": {},
   "outputs": [
    {
     "data": {
      "text/plain": [
       "array([[ -4,  -7,  -1,   3,   4,   4],\n",
       "       [  8,   1,  -1,   1, -10,  -9],\n",
       "       [  6,   0,   6,   9, -10,   0],\n",
       "       [  7,   8,  -6,   9,   0,  -1],\n",
       "       [  3,   2,  -2,   2,   9,   3],\n",
       "       [  5,  -5,   4,  -2,   6,   5]])"
      ]
     },
     "execution_count": 24,
     "metadata": {},
     "output_type": "execute_result"
    }
   ],
   "source": [
    "arr"
   ]
  },
  {
   "cell_type": "code",
   "execution_count": 25,
   "id": "36ccc6e7",
   "metadata": {},
   "outputs": [
    {
     "data": {
      "text/plain": [
       "(9, -10)"
      ]
     },
     "execution_count": 25,
     "metadata": {},
     "output_type": "execute_result"
    }
   ],
   "source": [
    "#for maximum and minimum values of all :\n",
    "np.max(arr), np.min(arr)"
   ]
  },
  {
   "cell_type": "code",
   "execution_count": 33,
   "id": "6516548c",
   "metadata": {},
   "outputs": [
    {
     "name": "stdout",
     "output_type": "stream",
     "text": [
      "[4 8 9 9 9 6]\n",
      "[ -7 -10 -10  -6  -2  -5]\n"
     ]
    }
   ],
   "source": [
    "#for maximum and minimum values in each rows:\n",
    "print(np.max(arr, axis=1))\n",
    "print(np.min(arr, axis=1))"
   ]
  },
  {
   "cell_type": "code",
   "execution_count": 38,
   "id": "4f2a5e76",
   "metadata": {},
   "outputs": [
    {
     "data": {
      "text/plain": [
       "array([ -4,  -7,  -6,  -2, -10,  -9])"
      ]
     },
     "execution_count": 38,
     "metadata": {},
     "output_type": "execute_result"
    }
   ],
   "source": [
    "# for same thing with column:\n",
    "np.min(arr, axis=0)"
   ]
  },
  {
   "cell_type": "code",
   "execution_count": 39,
   "id": "7b369323",
   "metadata": {},
   "outputs": [
    {
     "data": {
      "text/plain": [
       "array([8, 8, 6, 9, 9, 5])"
      ]
     },
     "execution_count": 39,
     "metadata": {},
     "output_type": "execute_result"
    }
   ],
   "source": [
    "np.max(arr, axis=0)"
   ]
  },
  {
   "cell_type": "code",
   "execution_count": 41,
   "id": "e8751878",
   "metadata": {},
   "outputs": [
    {
     "data": {
      "text/plain": [
       "10"
      ]
     },
     "execution_count": 41,
     "metadata": {},
     "output_type": "execute_result"
    }
   ],
   "source": [
    "#to know index of maximum and minimum values in numpy array:\n",
    "np.argmin(arr)"
   ]
  },
  {
   "cell_type": "markdown",
   "id": "7dcfc6c8",
   "metadata": {},
   "source": [
    "#By default, the index returned\n",
    "is into the flattened array, so the actual value can be retrieved using a view on the array\n",
    "created by ravel:\n"
   ]
  },
  {
   "cell_type": "code",
   "execution_count": 44,
   "id": "14199096",
   "metadata": {},
   "outputs": [
    {
     "data": {
      "text/plain": [
       "10"
      ]
     },
     "execution_count": 44,
     "metadata": {},
     "output_type": "execute_result"
    }
   ],
   "source": [
    "arr.argmin()"
   ]
  },
  {
   "cell_type": "code",
   "execution_count": 45,
   "id": "fa6ed67e",
   "metadata": {},
   "outputs": [
    {
     "data": {
      "text/plain": [
       "-10"
      ]
     },
     "execution_count": 45,
     "metadata": {},
     "output_type": "execute_result"
    }
   ],
   "source": [
    "arr.ravel()[arr.argmin()]"
   ]
  },
  {
   "cell_type": "code",
   "execution_count": 47,
   "id": "ddb00118",
   "metadata": {},
   "outputs": [
    {
     "data": {
      "text/plain": [
       "array([0, 0, 3, 5, 1, 1], dtype=int64)"
      ]
     },
     "execution_count": 47,
     "metadata": {},
     "output_type": "execute_result"
    }
   ],
   "source": [
    "arr.argmin(axis=0)"
   ]
  },
  {
   "attachments": {
    "image.png": {
     "image/png": "[encoded data removed]"
    }
   },
   "cell_type": "markdown",
   "id": "9c6af44b",
   "metadata": {},
   "source": [
    "![image.png](attachment:image.png)"
   ]
  },
  {
   "cell_type": "code",
   "execution_count": 185,
   "id": "86782648",
   "metadata": {},
   "outputs": [
    {
     "data": {
      "image/png": "[encoded data removed]",
      "text/plain": [
       "<Figure size 720x432 with 1 Axes>"
      ]
     },
     "metadata": {
      "needs_background": "light"
     },
     "output_type": "display_data"
    }
   ],
   "source": [
    "L = 1\n",
    "x = np.linspace(0,L,100)\n",
    "n = np.arange(1,6)\n",
    "arr = np.zeros(100*5).reshape(100,5)\n",
    "for i,xv in enumerate(x):\n",
    "    for j,nv in enumerate(n):\n",
    "        lam_n = 2*L/nv\n",
    "        arr[i][j] = xv*(L-xv) * np.sin(2*np.pi * xv/lam_n)\n",
    "\n",
    "        \n",
    "fig, ax = plt.subplots(figsize=(10,6), tight_layout=True)\n",
    "ax.plot(arr, c='k') #plots different columns for different rows\n",
    "a_min = arr.argmin(axis=0)\n",
    "a_max = arr.argmax(axis=0)\n",
    "ax.plot(a_min, arr[a_min, np.arange(5)], \"v\", markersize=10)\n",
    "ax.plot(a_max, arr[a_max, np.arange(5)], \"^\", markersize=10)\n",
    "plt.show()\n",
    "\n",
    "\n",
    "        \n"
   ]
  },
  {
   "cell_type": "markdown",
   "id": "811d3237",
   "metadata": {},
   "source": [
    "#### Sorting an array"
   ]
  },
  {
   "cell_type": "code",
   "execution_count": 186,
   "id": "7427544d",
   "metadata": {},
   "outputs": [],
   "source": [
    "a = np.array([0,-5,10,-96,15])"
   ]
  },
  {
   "cell_type": "code",
   "execution_count": 188,
   "id": "b5ad2b6c",
   "metadata": {},
   "outputs": [
    {
     "data": {
      "text/plain": [
       "array([-96,  -5,   0,  10,  15])"
      ]
     },
     "execution_count": 188,
     "metadata": {},
     "output_type": "execute_result"
    }
   ],
   "source": [
    "a.sort()\n",
    "a"
   ]
  },
  {
   "cell_type": "code",
   "execution_count": 189,
   "id": "86f52ea7",
   "metadata": {},
   "outputs": [
    {
     "data": {
      "text/plain": [
       "array([[ 0,  3, -2],\n",
       "       [ 7,  1,  3],\n",
       "       [ 4,  0, -1]])"
      ]
     },
     "execution_count": 189,
     "metadata": {},
     "output_type": "execute_result"
    }
   ],
   "source": [
    " b = np.array ([[0 , 3, -2], [7, 1, 3], [4, 0, -1]])\n",
    "b"
   ]
  },
  {
   "cell_type": "code",
   "execution_count": 192,
   "id": "c1669c01",
   "metadata": {},
   "outputs": [
    {
     "data": {
      "text/plain": [
       "array([[-2,  0,  3],\n",
       "       [ 1,  3,  7],\n",
       "       [-1,  0,  4]])"
      ]
     },
     "execution_count": 192,
     "metadata": {},
     "output_type": "execute_result"
    }
   ],
   "source": [
    "b.sort()\n",
    "b #sorts each rows"
   ]
  },
  {
   "cell_type": "code",
   "execution_count": 195,
   "id": "e82c7cb7",
   "metadata": {},
   "outputs": [
    {
     "data": {
      "text/plain": [
       "array([[-2,  0,  3],\n",
       "       [-1,  0,  4],\n",
       "       [ 1,  3,  7]])"
      ]
     },
     "execution_count": 195,
     "metadata": {},
     "output_type": "execute_result"
    }
   ],
   "source": [
    "b.sort(axis=0) #in order to sort columns\n",
    "b"
   ]
  },
  {
   "cell_type": "markdown",
   "id": "f65022fe",
   "metadata": {},
   "source": [
    "`np.argsort()` will return sorted arguments"
   ]
  },
  {
   "cell_type": "markdown",
   "id": "4ffdb808",
   "metadata": {},
   "source": [
    "### Structured Arrays\n"
   ]
  },
  {
   "cell_type": "code",
   "execution_count": 199,
   "id": "2cff53d5",
   "metadata": {},
   "outputs": [
    {
     "data": {
      "text/plain": [
       "array([(0, 0., 0.+0.j), (0, 0., 0.+0.j), (0, 0., 0.+0.j), (0, 0., 0.+0.j),\n",
       "       (0, 0., 0.+0.j)],\n",
       "      dtype=[('f0', '<i8'), ('f1', '<f8'), ('f2', '<c8')])"
      ]
     },
     "execution_count": 199,
     "metadata": {},
     "output_type": "execute_result"
    }
   ],
   "source": [
    "# array creation:\n",
    "\n",
    "a = np.zeros(5, dtype='i8, f8, c8')\n",
    "a"
   ]
  },
  {
   "cell_type": "code",
   "execution_count": 202,
   "id": "53354b4d",
   "metadata": {},
   "outputs": [],
   "source": [
    "# dtype in string with 3 fundamental data will create a structured array having 5 rows and 3 columns of those different data\n",
    "#but name is given f0 f1 and f2 for each columns which are due to not mentioning"
   ]
  },
  {
   "cell_type": "markdown",
   "id": "0ab8414a",
   "metadata": {},
   "source": [
    "#### another way of structuring an array"
   ]
  },
  {
   "cell_type": "code",
   "execution_count": 203,
   "id": "9b8440a3",
   "metadata": {},
   "outputs": [],
   "source": [
    "dt = np.dtype([('country', 'S10'),('year', 'i4')])"
   ]
  },
  {
   "cell_type": "code",
   "execution_count": 204,
   "id": "2fc1f156",
   "metadata": {},
   "outputs": [],
   "source": [
    "data = [('Nepal', 2015), ('chile', 2000), ('Nepal',1935)]"
   ]
  },
  {
   "cell_type": "code",
   "execution_count": 205,
   "id": "30a484bb",
   "metadata": {},
   "outputs": [],
   "source": [
    "arr = np.array(data,dtype=dt)"
   ]
  },
  {
   "cell_type": "code",
   "execution_count": 206,
   "id": "d6e616c8",
   "metadata": {},
   "outputs": [
    {
     "data": {
      "text/plain": [
       "array([(b'Nepal', 2015), (b'chile', 2000), (b'Nepal', 1935)],\n",
       "      dtype=[('country', 'S10'), ('year', '<i4')])"
      ]
     },
     "execution_count": 206,
     "metadata": {},
     "output_type": "execute_result"
    }
   ],
   "source": [
    "arr"
   ]
  },
  {
   "cell_type": "code",
   "execution_count": 207,
   "id": "1833283b",
   "metadata": {},
   "outputs": [],
   "source": [
    "#this is example of structured array with country name and massive earthquake occured year"
   ]
  },
  {
   "cell_type": "code",
   "execution_count": null,
   "id": "34ee6537",
   "metadata": {},
   "outputs": [],
   "source": []
  },
  {
   "cell_type": "code",
   "execution_count": 218,
   "id": "4b3363b9",
   "metadata": {},
   "outputs": [],
   "source": [
    "#another method: dictionary creation:\n",
    "\n",
    "dt = np.dtype({'names':['country', 'year'], 'formats':['S10','i4']})\n",
    "a = np.array(data,dt)"
   ]
  },
  {
   "cell_type": "code",
   "execution_count": 219,
   "id": "d9d73f44",
   "metadata": {},
   "outputs": [
    {
     "data": {
      "text/plain": [
       "array([(b'Nepal', 2015), (b'chile', 2000), (b'Nepal', 1935)],\n",
       "      dtype=[('country', 'S10'), ('year', '<i4')])"
      ]
     },
     "execution_count": 219,
     "metadata": {},
     "output_type": "execute_result"
    }
   ],
   "source": [
    "a"
   ]
  },
  {
   "cell_type": "code",
   "execution_count": 223,
   "id": "ab86e860",
   "metadata": {},
   "outputs": [],
   "source": [
    "#sorting a structured array:\n",
    "\n",
    "a.sort(order='year') #on which order"
   ]
  },
  {
   "cell_type": "code",
   "execution_count": 224,
   "id": "c726dcf6",
   "metadata": {},
   "outputs": [
    {
     "data": {
      "text/plain": [
       "array([(b'Nepal', 1935), (b'chile', 2000), (b'Nepal', 2015)],\n",
       "      dtype=[('country', 'S10'), ('year', '<i4')])"
      ]
     },
     "execution_count": 224,
     "metadata": {},
     "output_type": "execute_result"
    }
   ],
   "source": [
    "a"
   ]
  },
  {
   "cell_type": "code",
   "execution_count": 225,
   "id": "812f7380",
   "metadata": {},
   "outputs": [],
   "source": [
    "a.sort(order='country')"
   ]
  },
  {
   "cell_type": "code",
   "execution_count": 226,
   "id": "62a20fe6",
   "metadata": {},
   "outputs": [
    {
     "data": {
      "text/plain": [
       "array([(b'Nepal', 1935), (b'Nepal', 2015), (b'chile', 2000)],\n",
       "      dtype=[('country', 'S10'), ('year', '<i4')])"
      ]
     },
     "execution_count": 226,
     "metadata": {},
     "output_type": "execute_result"
    }
   ],
   "source": [
    "a"
   ]
  }
 ],
 "metadata": {
  "kernelspec": {
   "display_name": "Python 3 (ipykernel)",
   "language": "python",
   "name": "python3"
  },
  "language_info": {
   "codemirror_mode": {
    "name": "ipython",
    "version": 3
   },
   "file_extension": ".py",
   "mimetype": "text/x-python",
   "name": "python",
   "nbconvert_exporter": "python",
   "pygments_lexer": "ipython3",
   "version": "3.8.10"
  }
 },
 "nbformat": 4,
 "nbformat_minor": 5
}
